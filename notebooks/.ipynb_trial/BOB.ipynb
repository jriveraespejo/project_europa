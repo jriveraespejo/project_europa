{
  "nbformat": 4,
  "nbformat_minor": 0,
  "metadata": {
    "colab": {
      "name": "qxue9013_COMP5046_Ass1.ipynb",
      "provenance": [],
      "collapsed_sections": [],
      "toc_visible": true,
      "machine_shape": "hm"
    },
    "kernelspec": {
      "display_name": "Python 3",
      "name": "python3"
    }
  },
  "cells": [
    {
      "cell_type": "markdown",
      "metadata": {
        "id": "MGHoy6KpQDfZ"
      },
      "source": [
        "# COMP5046 Assignment 1\n",
        "*Make sure you change the file name with your unikey.*"
      ]
    },
    {
      "cell_type": "markdown",
      "metadata": {
        "id": "qTf21j_oQIiD"
      },
      "source": [
        "# Readme\n",
        "*If there is something to be noted for the user, please mention here.* \n",
        "\n",
        "*If you are planning to implement a program with Object Oriented Programming style, please check the bottom of the this ipynb file*"
      ]
    },
    {
      "cell_type": "markdown",
      "metadata": {
        "id": "iXbQohXLKSgO"
      },
      "source": [
        "***Visualising the comparison of different results is a good way to justify your decision.***"
      ]
    },
    {
      "cell_type": "markdown",
      "metadata": {
        "id": "34DVNKgqQY21"
      },
      "source": [
        "# 1 - Data Preprocessing"
      ]
    },
    {
      "cell_type": "markdown",
      "metadata": {
        "id": "7cWUxAQrGlq6"
      },
      "source": [
        "## 1.1. Download Dataset"
      ]
    },
    {
      "cell_type": "markdown",
      "metadata": {
        "id": "Lr8o7UZxWf3Y"
      },
      "source": [
        "If you want to know how data has been saved in pickle file: see this [ipynb file](https://drive.google.com/file/d/1ZQUVBzgH7N2EbiyE3WTPx7JNe2eRTs36/view?usp=sharing)"
      ]
    },
    {
      "cell_type": "code",
      "metadata": {
        "colab": {
          "base_uri": "https://localhost:8080/"
        },
        "id": "U7C4snIcNl22",
        "outputId": "92b744a5-2d9a-49a2-a90c-ec5de6ddfd52"
      },
      "source": [
        "!pip install -U -q PyDrive\n",
        "from pydrive.auth import GoogleAuth\n",
        "from pydrive.drive import GoogleDrive\n",
        "from google.colab import auth\n",
        "import pandas as pd\n",
        "\n",
        "from oauth2client.client import GoogleCredentials\n",
        "# Authenticate and create the PyDrive client.\n",
        "auth.authenticate_user()\n",
        "gauth = GoogleAuth()\n",
        "gauth.credentials = GoogleCredentials.get_application_default()\n",
        "drive = GoogleDrive(gauth)\n",
        "\n",
        "id = '1lTD6bgRkmwguGAr30v-r0KBPdtnVneLb'\n",
        "downloaded = drive.CreateFile({'id':id}) \n",
        "downloaded.GetContentFile('testing_data.pkl')  \n",
        "\n",
        "id = '1pCUdlZMoj99UZHtqFeza86fvVQfFmDFX'\n",
        "downloaded = drive.CreateFile({'id':id}) \n",
        "downloaded.GetContentFile('training_data.pkl')  \n",
        "import pickle\n",
        "\n",
        "training_data= pickle.load(open(\"training_data.pkl\",\"rb\"))\n",
        "testing_data = pickle.load(open(\"testing_data.pkl\",\"rb\"))\n",
        "\n",
        "print(\"------------------------------------\")\n",
        "print(\"Size of training dataset: {0}\".format(len(training_data)))\n",
        "print(\"Size of testing dataset: {0}\".format(len(testing_data)))\n",
        "print(\"------------------------------------\")\n",
        "\n",
        "print(\"------------------------------------\")\n",
        "print(\"Sample Data\")\n",
        "print(\"LABEL: {0} / SENTENCE: {1}\".format(training_data[0][0], training_data[0][1]))\n",
        "print(\"------------------------------------\")\n"
      ],
      "execution_count": null,
      "outputs": [
        {
          "output_type": "stream",
          "text": [
            "------------------------------------\n",
            "Size of training dataset: 8000\n",
            "Size of testing dataset: 2000\n",
            "------------------------------------\n",
            "------------------------------------\n",
            "Sample Data\n",
            "LABEL: neg / SENTENCE: hopeless for tmr :(\n",
            "------------------------------------\n"
          ],
          "name": "stdout"
        }
      ]
    },
    {
      "cell_type": "markdown",
      "metadata": {
        "id": "l9gBSgBCQh24"
      },
      "source": [
        "## 1.2. Preprocess data"
      ]
    },
    {
      "cell_type": "markdown",
      "metadata": {
        "id": "8RdKI8E2KRwe"
      },
      "source": [
        "\n",
        "\n",
        "*You are required to describe which data preprocessing techniques were conducted with justification of your decision. *"
      ]
    },
    {
      "cell_type": "markdown",
      "metadata": {
        "id": "D_wKmm6sYnhO"
      },
      "source": [
        "**1** The first task is to remove the @usename strings, punctuations, and website \n",
        "links as they contribute no meaning to the sentences \n",
        "\n",
        "\n",
        "**2** The second task is to reserve the emoticons,and the rest words are changed to the lower-case form. Because it is the sentiment analysis, emoticons does not contribute meaning to the sentence in our analysis. By changing all the words to the lower-case, it will help us to analysis the meaning of the words as Python is case-sensitive \n",
        "\n",
        "**3** The third task is to look at the contraction of the data and to change it. This helps to standardlize the words, which is valuable in this analysis. \n",
        "\n",
        "**4** the fourth task is to remove the stop words which do not add much meaning to the sentence we are going to analysis. \n",
        "\n",
        "\n",
        "**5** the last task is to start the Lemmatisation of the words that can be identified as a single form. This is nessesary in the sentiment analysis as the lemaatisation is based on the meaning of the words \n",
        "\n"
      ]
    },
    {
      "cell_type": "code",
      "metadata": {
        "id": "emyl1lWxGr12"
      },
      "source": [
        "#remove  \"@followed by the username\" in the strings\n",
        "import re\n",
        "def remove_name(x):\n",
        "    x=re.sub(\"@\\S+\",\"\",x)\n",
        "    return x\n",
        "training_data_data=[(x,remove_name(y)) for (x, y) in training_data]\n",
        "testing_data_data=[(x,remove_name(y)) for (x, y) in testing_data]\n",
        "#remove website strings\n",
        "def remove_webname(x):\n",
        "    x=re.sub(\"http\\S+\",\"\",x)\n",
        "    return x \n",
        "training_data_data=[(x,remove_webname(y)) for (x, y) in training_data_data]\n",
        "testing_data_data=[(x,remove_webname(y)) for (x, y) in testing_data_data]\n",
        "puncts = [',', '.', '\"', ':', ')', '(', '-', '!', '?', '|', ';', \"'\", '$', '&', '/', '[', ']', '>', '%', '=', '#', '*', '+', '\\\\', '•',  '~', '@', '£', \n",
        " '·', '_', '{', '}', '©', '^', '®', '`',  '<', '→', '°', '€', '™', '›',  '♥', '←', '×', '§', '″', '′', 'Â', '█', '½', 'à', '…', \n",
        " '“', '★', '”', '–', '●', 'â', '►', '−', '¢', '²', '¬', '░', '¶', '↑', '±', '¿', '▾', '═', '¦', '║', '―', '¥', '▓', '—', '‹', '─', \n",
        " '▒', '：', '¼', '⊕', '▼', '▪', '†', '■', '’', '▀', '¨', '▄', '♫', '☆', 'é', '¯', '♦', '¤', '▲', 'è', '¸', '¾', 'Ã', '⋅', '‘', '∞', \n",
        " '∙', '）', '↓', '、', '│', '（', '»', '，', '♪', '╩', '╚', '³', '・', '╦', '╣', '╔', '╗', '▬', '❤', 'ï', 'Ø', '¹', '≤', '‡', '√', '','']\n",
        "\n",
        "#remove punctuations \n",
        "def remove_punctuation(x):\n",
        "    x = str(x)\n",
        "    for punct in puncts:\n",
        "        if punct in x:\n",
        "            x = x.replace(punct, '')\n",
        "    return x\n",
        "\n",
        "new_training_data_list=[(x,remove_punctuation(y)) for x,y in training_data_data]\n",
        "new_testing_data_list=[(x,remove_punctuation(y)) for x,y in  testing_data_data]"
      ],
      "execution_count": null,
      "outputs": []
    },
    {
      "cell_type": "markdown",
      "metadata": {
        "id": "wAz6BGLwZcrT"
      },
      "source": [
        "The emoticons in the list are to be reserved, and the rest words are changed to the lower-case form. Because it is the sentiment analysis, emoticons does not contribute meaning to the sentence in our analysis \n",
        "\n",
        "\n"
      ]
    },
    {
      "cell_type": "code",
      "metadata": {
        "id": "iEXg1A2NbN0-"
      },
      "source": [
        "# to reserve the emoticons in the list and change the rest to the lower-case\n",
        "import regex\n",
        "EMOTICONS = r\"\"\"\n",
        "    (?:\n",
        "      [<>]?\n",
        "      [:;=8]                     # eyes\n",
        "      [\\-o\\*\\']?                 # optional nose\n",
        "      [\\)\\]\\(\\[dDpP/\\:\\}\\{@\\|\\\\] # mouth\n",
        "      |\n",
        "      [\\)\\]\\(\\[dDpP/\\:\\}\\{@\\|\\\\] # mouth\n",
        "      [\\-o\\*\\']?                 # optional nose\n",
        "      [:;=8]                     # eyes\n",
        "      [<>]?\n",
        "      |\n",
        "      <3                         # heart\n",
        "    )\"\"\"\n",
        "EMOTICON_RE = regex.compile(EMOTICONS, regex.VERBOSE | regex.I | regex.UNICODE)\n",
        "training=[]\n",
        "for i in new_training_data_list:\n",
        "                    if EMOTICON_RE.search(i[1]):\n",
        "                                      value=i[1]\n",
        "                    else:\n",
        "                       value=i[1].lower()\n",
        "                    training.append((i[0],value))\n",
        "\n",
        "testing=[]\n",
        "for i in new_testing_data_list:\n",
        "                    if EMOTICON_RE.search(i[1]):\n",
        "                                      value=i[1]\n",
        "                    else:\n",
        "                       value=i[1].lower()\n",
        "                    testing.append((i[0],value))\n",
        "\n",
        "\n"
      ],
      "execution_count": null,
      "outputs": []
    },
    {
      "cell_type": "markdown",
      "metadata": {
        "id": "FnkaETTGYGxS"
      },
      "source": [
        "# To look at the contraction of the data and to change it. This helps to standardlize the words, which is valuable in this analysis \n"
      ]
    },
    {
      "cell_type": "code",
      "metadata": {
        "colab": {
          "base_uri": "https://localhost:8080/"
        },
        "id": "aBwvGnKOo6Pr",
        "outputId": "e6c6df18-e3c0-4fb8-9c50-de482fb3db70"
      },
      "source": [
        "\n",
        "contraction_dict = {\"ain't\": \"is not\", \"aren't\": \"are not\",\"can't\": \"cannot\", \"'cause\": \"because\", \"could've\": \"could have\", \n",
        "                    \"couldn't\": \"could not\", \"didn't\": \"did not\",  \"doesn't\": \"does not\", \"don't\": \"do not\", \"hadn't\": \"had not\", \n",
        "                    \"hasn't\": \"has not\", \"haven't\": \"have not\", \"he'd\": \"he would\",\"he'll\": \"he will\", \"he's\": \"he is\", \"how'd\": \"how did\", \n",
        "                    \"how'd'y\": \"how do you\", \"how'll\": \"how will\", \"how's\": \"how is\",  \"I'd\": \"I would\", \"I'd've\": \"I would have\", \n",
        "                    \"I'll\": \"I will\", \"I'll've\": \"I will have\",\"I'm\": \"I am\", \"I've\": \"I have\", \"i'd\": \"i would\", \"i'd've\": \"i would have\", \n",
        "                    \"i'll\": \"i will\",  \"i'll've\": \"i will have\",\"i'm\": \"i am\", \"i've\": \"i have\", \"isn't\": \"is not\", \"it'd\": \"it would\", \n",
        "                    \"it'd've\": \"it would have\", \"it'll\": \"it will\", \"it'll've\": \"it will have\",\"it's\": \"it is\", \"let's\": \"let us\", \n",
        "                    \"ma'am\": \"madam\", \"mayn't\": \"may not\", \"might've\": \"might have\",\"mightn't\": \"might not\",\"mightn't've\": \"might not have\", \n",
        "                    \"must've\": \"must have\", \"mustn't\": \"must not\", \"mustn't've\": \"must not have\", \"needn't\": \"need not\", \"needn't've\": \"need not have\",\n",
        "                    \"o'clock\": \"of the clock\", \"oughtn't\": \"ought not\", \"oughtn't've\": \"ought not have\", \"shan't\": \"shall not\", \"sha'n't\": \"shall not\", \n",
        "                    \"shan't've\": \"shall not have\", \"she'd\": \"she would\", \"she'd've\": \"she would have\", \"she'll\": \"she will\", \"she'll've\": \"she will have\", \n",
        "                    \"she's\": \"she is\", \"should've\": \"should have\", \"shouldn't\": \"should not\", \"shouldn't've\": \"should not have\", \"so've\": \"so have\",\n",
        "                    \"so's\": \"so as\", \"this's\": \"this is\",\"that'd\": \"that would\", \"that'd've\": \"that would have\", \"that's\": \"that is\", \"there'd\": \"there would\", \n",
        "                    \"there'd've\": \"there would have\", \"there's\": \"there is\", \"here's\": \"here is\",\"they'd\": \"they would\", \"they'd've\": \"they would have\", \n",
        "                    \"they'll\": \"they will\", \"they'll've\": \"they will have\", \"they're\": \"they are\", \"they've\": \"they have\", \"to've\": \"to have\", \"wasn't\": \"was not\", \n",
        "                    \"we'd\": \"we would\", \"we'd've\": \"we would have\", \"we'll\": \"we will\", \"we'll've\": \"we will have\", \"we're\": \"we are\", \"we've\": \"we have\", \n",
        "                    \"weren't\": \"were not\", \"what'll\": \"what will\", \"what'll've\": \"what will have\", \"what're\": \"what are\",  \"what's\": \"what is\", \"what've\": \"what have\", \n",
        "                    \"when's\": \"when is\", \"when've\": \"when have\", \"where'd\": \"where did\", \"where's\": \"where is\", \"where've\": \"where have\", \"who'll\": \"who will\", \n",
        "                    \"who'll've\": \"who will have\", \"who's\": \"who is\", \"who've\": \"who have\", \"why's\": \"why is\", \"why've\": \"why have\", \"will've\": \"will have\", \n",
        "                    \"won't\": \"will not\", \"won't've\": \"will not have\", \"would've\": \"would have\", \"wouldn't\": \"would not\", \"wouldn't've\": \"would not have\", \n",
        "                    \"y'all\": \"you all\", \"y'all'd\": \"you all would\",\"y'all'd've\": \"you all would have\",\"y'all're\": \"you all are\",\"y'all've\": \"you all have\",\n",
        "                    \"you'd\": \"you would\", \"you'd've\": \"you would have\", \"you'll\": \"you will\", \"you'll've\": \"you will have\", \"you're\": \"you are\", \"you've\": \"you have\",\"cant\": \"cannot\",\"youre\": \"you are\"}\n",
        "def contract(s):\n",
        "  for k in contraction_dict:\n",
        "                     if k in s:\n",
        "                        s = s.replace(k,contraction_dict[k])\n",
        "  return s \n",
        "new_data_training=[(x,contract(y)) for x,y in training ] \n",
        "new_data_testing=[(x,contract(y)) for x,y in testing] \n",
        "\n",
        "import nltk\n",
        "nltk.download('punkt')\n",
        "nltk.download('stopwords')\n",
        "\n",
        "from nltk.corpus import stopwords as sw\n",
        "from nltk.tokenize import word_tokenize\n",
        "stop_words = sw.words()\n",
        "a=[(x,word_tokenize(y)) for x, y in new_data_training]\n",
        "b=[(x,word_tokenize(y)) for x, y in new_data_testing]\n",
        "def stop(A):\n",
        "      c=[w for w in A if not w in stop_words]\n",
        "      return c\n",
        "training=[(x,stop(y)) for x, y in a]\n",
        "testing=[(x,stop(y)) for x, y in b]\n"
      ],
      "execution_count": null,
      "outputs": [
        {
          "output_type": "stream",
          "text": [
            "[nltk_data] Downloading package punkt to /root/nltk_data...\n",
            "[nltk_data]   Package punkt is already up-to-date!\n",
            "[nltk_data] Downloading package stopwords to /root/nltk_data...\n",
            "[nltk_data]   Package stopwords is already up-to-date!\n"
          ],
          "name": "stdout"
        }
      ]
    },
    {
      "cell_type": "markdown",
      "metadata": {
        "id": "Q9nYrJRVX8lr"
      },
      "source": [
        "To start the Lemmatisation of the words that can be identified as a single form. This is nessesary in the sentiment analysis as the lemaatisation is based on the meaning of the words \n"
      ]
    },
    {
      "cell_type": "code",
      "metadata": {
        "colab": {
          "base_uri": "https://localhost:8080/"
        },
        "id": "ey540Sb0Xr7h",
        "outputId": "fe822d69-4c31-4f23-9066-e7a2ea606e95"
      },
      "source": [
        "nltk.download('wordnet')\n",
        "\n",
        "from nltk.stem import WordNetLemmatizer\n",
        "my_training=[]\n",
        "my_testing=[]\n",
        "lemmatizer = WordNetLemmatizer()\n",
        "for a in training:\n",
        "      my_training.append((a[0],list(map(lemmatizer.lemmatize,a[1]))))\n",
        "for b in testing:\n",
        "      my_testing.append((b[0],list(map(lemmatizer.lemmatize,b[1]))))"
      ],
      "execution_count": null,
      "outputs": [
        {
          "output_type": "stream",
          "text": [
            "[nltk_data] Downloading package wordnet to /root/nltk_data...\n",
            "[nltk_data]   Package wordnet is already up-to-date!\n"
          ],
          "name": "stdout"
        }
      ]
    },
    {
      "cell_type": "markdown",
      "metadata": {
        "id": "LIu_lkJwQ55g"
      },
      "source": [
        "# 2 - Model Implementation"
      ]
    },
    {
      "cell_type": "markdown",
      "metadata": {
        "id": "-Lq8x9Vz7JHJ"
      },
      "source": [
        ""
      ]
    },
    {
      "cell_type": "markdown",
      "metadata": {
        "id": "daDvAftceIvr"
      },
      "source": [
        "## 2.1. Word Embeddings"
      ]
    },
    {
      "cell_type": "markdown",
      "metadata": {
        "id": "lbzm-NWBTmM-"
      },
      "source": [
        "*You are required to describe which model was implemented (i.e. Word2Vec with CBOW, FastText with SkipGram, etc.) with justification of your decision *"
      ]
    },
    {
      "cell_type": "markdown",
      "metadata": {
        "id": "NxCMsF6JR7K8"
      },
      "source": [
        "# FastText is used as the model for two reasons. using FastTest is to \"take into account the internal structure of words while learning word representations, which could be very useful for morphologically rich languages, and also for words that occur rarely\"(Wei,2018). Secondly, SkipGram method is dependent on the strong assumption that all the contextual words predicted are independent, while in the RNN model, the previous results are factored as the inputs to the current state for the prediction. Thus, SkipGram is not used here. Instead, i opt for the use of CBOW.\n",
        "\n",
        "\n",
        "(https://www.oreilly.com/library/view/deep-learning-essentials/9781785880360/12fe4a55-a5d0-4712-bd68-ac043b87a87e.xhtml#:~:text=The%20main%20advantage%20of%20FastText,for%20words%20that%20occur%20rarely.)\n"
      ]
    },
    {
      "cell_type": "markdown",
      "metadata": {
        "id": "GXgFpxIgl-_G"
      },
      "source": [
        "### 2.1.1. Data Preprocessing for Word Embeddings"
      ]
    },
    {
      "cell_type": "markdown",
      "metadata": {
        "id": "tT4cqeMs7OtQ"
      },
      "source": [
        "Dowloading the Ted scrip from the google drive [lab2] \n"
      ]
    },
    {
      "cell_type": "code",
      "metadata": {
        "colab": {
          "base_uri": "https://localhost:8080/"
        },
        "id": "gWXqunJd6fkF",
        "outputId": "6ff5dc1f-7641-42d6-88a9-76297f966d74"
      },
      "source": [
        "!pip install -U -q PyDrive\n",
        "from pydrive.auth import GoogleAuth\n",
        "from pydrive.drive import GoogleDrive\n",
        "from google.colab import auth\n",
        "from oauth2client.client import GoogleCredentials\n",
        "import pprint\n",
        "import re\n",
        "from lxml import etree \n",
        "from gensim.models import Word2Vec\n",
        "import warnings\n",
        "import nltk\n",
        "from nltk.tokenize import word_tokenize, sent_tokenize\n",
        "\n",
        "\n",
        "\n",
        "# Authenticate and create the PyDrive client.\n",
        "auth.authenticate_user()\n",
        "gauth = GoogleAuth()\n",
        "gauth.credentials = GoogleCredentials.get_application_default()\n",
        "drive = GoogleDrive(gauth)\n",
        "\n",
        "# For data processing\n",
        "\n",
        "nltk.download('punkt')\n",
        "\n",
        "# For implementing the word2vec family of algorithms\n",
        "\n",
        "warnings.simplefilter(action='ignore', category=FutureWarning)\n",
        "id = '1B47OiEiG2Lo1jUY6hy_zMmHBxfKQuJ8-'\n",
        "downloaded = drive.CreateFile({'id':id}) \n",
        "downloaded.GetContentFile('ted_en-20160408.xml')  \n",
        "targetXML=open('ted_en-20160408.xml', 'r', encoding='UTF8')\n",
        "\n",
        "# Getting contents of <content> tag from the xml file\n",
        "target_text = etree.parse(targetXML)\n",
        "parse_text = '\\n'.join(target_text.xpath('//content/text()'))\n"
      ],
      "execution_count": null,
      "outputs": [
        {
          "output_type": "stream",
          "text": [
            "[nltk_data] Downloading package punkt to /root/nltk_data...\n",
            "[nltk_data]   Package punkt is already up-to-date!\n"
          ],
          "name": "stdout"
        }
      ]
    },
    {
      "cell_type": "markdown",
      "metadata": {
        "id": "e7NuD3UV8K36"
      },
      "source": [
        "Data preprocessing for the TedScripts \n",
        "1.   the first is to remove \"Sound-effect labels\" using regular expression (regex)[lab 2] \n",
        "2.   the second is to tokenising the sentence as it will lead to the word vector representaio\n",
        "3. punctuations do not add meanings to the sentences.Hence they are deleated \n",
        "4. all capital characters should be converted to the lowercase as python is case senesitive in processing the words \n",
        "\n",
        "\n",
        "\n",
        "\n",
        "\n",
        "\n",
        "\n",
        "\n",
        "\n",
        "\n"
      ]
    },
    {
      "cell_type": "code",
      "metadata": {
        "id": "y140AMW78MM_"
      },
      "source": [
        "# Removing \"Sound-effect labels\" using regular expression (regex) (i.e. (Audio), (Laughter))\n",
        "content_text = re.sub(r'\\([^)]*\\)', '', parse_text)\n",
        "\n",
        "# Tokenising the sentence to process it by using NLTK library\n",
        "sent_text=sent_tokenize(content_text)\n",
        "\n",
        "# Removing punctuation and changing all characters to lower case\n",
        "normalized_text = []\n",
        "for string in sent_text:\n",
        "     tokens = re.sub(r\"[^a-z0-9]+\", \" \", string.lower())\n",
        "     normalized_text.append(tokens)\n",
        "\n",
        "# Tokenising each sentence to process individual word\n",
        "sentences=[]\n",
        "sentences=[word_tokenize(sentence) for sentence in normalized_text]\n"
      ],
      "execution_count": null,
      "outputs": []
    },
    {
      "cell_type": "markdown",
      "metadata": {
        "id": "qJrVHGYSmYMg"
      },
      "source": [
        "*You are required to describe which preprocessing techniques were used with justification of your decision.*"
      ]
    },
    {
      "cell_type": "markdown",
      "metadata": {
        "id": "WSNPhwlj-oVi"
      },
      "source": [
        "The training data is also preprocessed by \n",
        "\n",
        "\n",
        "1.   removing the @usernames as it does add meaning to the sentecnes\n",
        "2.   removing the website links(http) as they do not add meanings to the sentecnes \n",
        "3.  removing punctuations as they are not useful in this analysis \n",
        "4. reserving the emoticons in the list and change the rest to the lower-case as in the sentiment analysis, we actually care about the sentiment meaning\n",
        "5. changing contractions to its complete forms \n",
        "6. removing the stop words as they do not add much meanings to the sentences \n",
        "7. tokenziing the sentences for the later stage of word processing \n",
        "\n",
        "\n",
        "\n"
      ]
    },
    {
      "cell_type": "code",
      "metadata": {
        "id": "3LByzHLiNinu"
      },
      "source": [
        "#remove  \"@followed by the username\" in the strings as they are not useful for this analysis \n",
        "import re\n",
        "def remove_name(x):\n",
        "    x=re.sub(\"@\\S+\",\"\",x)\n",
        "    return x\n",
        "training_data_data=[(x,remove_name(y)) for (x, y) in training_data]\n",
        "testing_data_data=[(x,remove_name(y)) for (x, y) in testing_data]\n",
        "#remove website strings\n",
        "def remove_webname(x):\n",
        "    x=re.sub(\"http\\S+\",\"\",x)\n",
        "    return x \n",
        "training_data_data=[(x,remove_webname(y)) for (x, y) in training_data]\n",
        "testing_data_data=[(x,remove_webname(y)) for (x, y) in testing_data]\n",
        "\n",
        "\n",
        "#remove punctuations as they are not useful in this analysis \n",
        "puncts = [',', '.', '\"', ':', ')', '(', '-', '!', '?', '|', ';', \"'\", '$', '&', '/', '[', ']', '>', '%', '=', '#', '*', '+', '\\\\', '•',  '~', '@', '£', \n",
        " '·', '_', '{', '}', '©', '^', '®', '`',  '<', '→', '°', '€', '™', '›',  '♥', '←', '×', '§', '″', '′', 'Â', '█', '½', 'à', '…', \n",
        " '“', '★', '”', '–', '●', 'â', '►', '−', '¢', '²', '¬', '░', '¶', '↑', '±', '¿', '▾', '═', '¦', '║', '―', '¥', '▓', '—', '‹', '─', \n",
        " '▒', '：', '¼', '⊕', '▼', '▪', '†', '■', '’', '▀', '¨', '▄', '♫', '☆', 'é', '¯', '♦', '¤', '▲', 'è', '¸', '¾', 'Ã', '⋅', '‘', '∞', \n",
        " '∙', '）', '↓', '、', '│', '（', '»', '，', '♪', '╩', '╚', '³', '・', '╦', '╣', '╔', '╗', '▬', '❤', 'ï', 'Ø', '¹', '≤', '‡', '√', '','']\n",
        "\n",
        "def remove_punctuation(x):\n",
        "    x = str(x)\n",
        "    for punct in puncts:\n",
        "        if punct in x:\n",
        "            x = x.replace(punct, '')\n",
        "    return x\n",
        "\n",
        "new_training_data_list=[(x,remove_punctuation(y)) for x,y in training_data_data]\n",
        "new_testing_data_list=[(x,remove_punctuation(y)) for x,y in  testing_data_data]\n",
        "\n",
        "\n",
        "\n",
        "# to reserve the emoticons in the list and change the rest to the lower-case\n",
        "import regex\n",
        "EMOTICONS = r\"\"\"\n",
        "    (?:\n",
        "      [<>]?\n",
        "      [:;=8]                     # eyes\n",
        "      [\\-o\\*\\']?                 # optional nose\n",
        "      [\\)\\]\\(\\[dDpP/\\:\\}\\{@\\|\\\\] # mouth\n",
        "      |\n",
        "      [\\)\\]\\(\\[dDpP/\\:\\}\\{@\\|\\\\] # mouth\n",
        "      [\\-o\\*\\']?                 # optional nose\n",
        "      [:;=8]                     # eyes\n",
        "      [<>]?\n",
        "      |\n",
        "      <3                         # heart\n",
        "    )\"\"\"\n",
        "EMOTICON_RE = regex.compile(EMOTICONS, regex.VERBOSE | regex.I | regex.UNICODE)\n",
        "training=[]\n",
        "for i in new_training_data_list:\n",
        "                    if EMOTICON_RE.search(i[1]):\n",
        "                                      value=i[1]\n",
        "                    else:\n",
        "                       value=i[1].lower()\n",
        "                    training.append((i[0],value))\n",
        "\n",
        "testing=[]\n",
        "for i in new_testing_data_list:\n",
        "                    if EMOTICON_RE.search(i[1]):\n",
        "                                      value=i[1]\n",
        "                    else:\n",
        "                       value=i[1].lower()\n",
        "                    testing.append((i[0],value))\n",
        "\n",
        "\n",
        "\n",
        "# to look at the contraction of the data and to change it as this will standardlize the data and helps the analysis \n",
        "contraction_dict = {\"ain't\": \"is not\", \"aren't\": \"are not\",\"can't\": \"cannot\", \"'cause\": \"because\", \"could've\": \"could have\", \n",
        "                    \"couldn't\": \"could not\", \"didn't\": \"did not\",  \"doesn't\": \"does not\", \"don't\": \"do not\", \"hadn't\": \"had not\", \n",
        "                    \"hasn't\": \"has not\", \"haven't\": \"have not\", \"he'd\": \"he would\",\"he'll\": \"he will\", \"he's\": \"he is\", \"how'd\": \"how did\", \n",
        "                    \"how'd'y\": \"how do you\", \"how'll\": \"how will\", \"how's\": \"how is\",  \"I'd\": \"I would\", \"I'd've\": \"I would have\", \n",
        "                    \"I'll\": \"I will\", \"I'll've\": \"I will have\",\"I'm\": \"I am\", \"I've\": \"I have\", \"i'd\": \"i would\", \"i'd've\": \"i would have\", \n",
        "                    \"i'll\": \"i will\",  \"i'll've\": \"i will have\",\"i'm\": \"i am\", \"i've\": \"i have\", \"isn't\": \"is not\", \"it'd\": \"it would\", \n",
        "                    \"it'd've\": \"it would have\", \"it'll\": \"it will\", \"it'll've\": \"it will have\",\"it's\": \"it is\", \"let's\": \"let us\", \n",
        "                    \"ma'am\": \"madam\", \"mayn't\": \"may not\", \"might've\": \"might have\",\"mightn't\": \"might not\",\"mightn't've\": \"might not have\", \n",
        "                    \"must've\": \"must have\", \"mustn't\": \"must not\", \"mustn't've\": \"must not have\", \"needn't\": \"need not\", \"needn't've\": \"need not have\",\n",
        "                    \"o'clock\": \"of the clock\", \"oughtn't\": \"ought not\", \"oughtn't've\": \"ought not have\", \"shan't\": \"shall not\", \"sha'n't\": \"shall not\", \n",
        "                    \"shan't've\": \"shall not have\", \"she'd\": \"she would\", \"she'd've\": \"she would have\", \"she'll\": \"she will\", \"she'll've\": \"she will have\", \n",
        "                    \"she's\": \"she is\", \"should've\": \"should have\", \"shouldn't\": \"should not\", \"shouldn't've\": \"should not have\", \"so've\": \"so have\",\n",
        "                    \"so's\": \"so as\", \"this's\": \"this is\",\"that'd\": \"that would\", \"that'd've\": \"that would have\", \"that's\": \"that is\", \"there'd\": \"there would\", \n",
        "                    \"there'd've\": \"there would have\", \"there's\": \"there is\", \"here's\": \"here is\",\"they'd\": \"they would\", \"they'd've\": \"they would have\", \n",
        "                    \"they'll\": \"they will\", \"they'll've\": \"they will have\", \"they're\": \"they are\", \"they've\": \"they have\", \"to've\": \"to have\", \"wasn't\": \"was not\", \n",
        "                    \"we'd\": \"we would\", \"we'd've\": \"we would have\", \"we'll\": \"we will\", \"we'll've\": \"we will have\", \"we're\": \"we are\", \"we've\": \"we have\", \n",
        "                    \"weren't\": \"were not\", \"what'll\": \"what will\", \"what'll've\": \"what will have\", \"what're\": \"what are\",  \"what's\": \"what is\", \"what've\": \"what have\", \n",
        "                    \"when's\": \"when is\", \"when've\": \"when have\", \"where'd\": \"where did\", \"where's\": \"where is\", \"where've\": \"where have\", \"who'll\": \"who will\", \n",
        "                    \"who'll've\": \"who will have\", \"who's\": \"who is\", \"who've\": \"who have\", \"why's\": \"why is\", \"why've\": \"why have\", \"will've\": \"will have\", \n",
        "                    \"won't\": \"will not\", \"won't've\": \"will not have\", \"would've\": \"would have\", \"wouldn't\": \"would not\", \"wouldn't've\": \"would not have\", \n",
        "                    \"y'all\": \"you all\", \"y'all'd\": \"you all would\",\"y'all'd've\": \"you all would have\",\"y'all're\": \"you all are\",\"y'all've\": \"you all have\",\n",
        "                    \"you'd\": \"you would\", \"you'd've\": \"you would have\", \"you'll\": \"you will\", \"you'll've\": \"you will have\", \"you're\": \"you are\", \"you've\": \"you have\",\"cant\": \"cannot\",\"youre\": \"you are\"}\n",
        "def contract(s):\n",
        "  for k in contraction_dict:\n",
        "                     if k in s:\n",
        "                        s = s.replace(k,contraction_dict[k])\n",
        "  return s \n",
        "new_data_training=[(x,contract(y)) for x,y in training] \n",
        "new_data_testing=[(x,contract(y)) for x,y in testing] \n",
        "\n",
        "import nltk\n",
        "nltk.download('punkt')\n",
        "nltk.download('stopwords')\n",
        "\n",
        "# to remove the stop words as they do not add much meanings to the sentences and thus are not useful\n",
        "from nltk.corpus import stopwords as sw\n",
        "from nltk.tokenize import word_tokenize\n",
        "stop_words = sw.words()\n",
        "a=[(x,word_tokenize(y)) for x, y in new_data_training]\n",
        "b=[(x,word_tokenize(y)) for x, y in new_data_testing]\n",
        "def stop(A):\n",
        "      c=[w for w in A if not w in stop_words]\n",
        "      return ' '.join(c)\n",
        "training=[(x,stop(y)) for x, y in a]\n",
        "testing=[(x,stop(y)) for x, y in b]\n",
        "\n",
        "\n",
        "\n",
        "# to start the Lemmatisation of the words that can be identified as a single form. This is nessesary in the sentiment analysis as the lemaatisation is based on the meaning of the words \n",
        "nltk.download('wordnet')\n",
        "\n",
        "from nltk.stem import WordNetLemmatizer\n",
        "my_training=[]\n",
        "my_testing=[]\n",
        "lemmatizer = WordNetLemmatizer()\n",
        "for a in training:\n",
        "      my_training.append((a[0],lemmatizer.lemmatize(a[1])))\n",
        "for b in testing:\n",
        "      my_testing.append((b[0],lemmatizer.lemmatize(b[1])))"
      ],
      "execution_count": null,
      "outputs": []
    },
    {
      "cell_type": "markdown",
      "metadata": {
        "id": "qhAgWf_AmbZ8"
      },
      "source": [
        "### 2.1.2. Build Word Embeddings Model"
      ]
    },
    {
      "cell_type": "markdown",
      "metadata": {
        "id": "AJ8rU7JbiBVS"
      },
      "source": [
        "*You are required to describe how hyperparameters were decided with justification of your decision.*"
      ]
    },
    {
      "cell_type": "markdown",
      "metadata": {
        "id": "gHYcTSQsZ4tE"
      },
      "source": [
        "The size of embedding is set to 100 as on the one hand, the size can not be too large, which will lead to the curse of dimensionality which increase the computattional time, while on the other hand, it is suggested in the paper of Mikolov(Jeffrey Pennington, 2014] that the increase in dimensionality bring in benefits.Grounded in the emprical evidences from Section 3.1, embedding size of 100 is chosen here. \n",
        "\n",
        "As for the window size, it is set to be 7 following the empirical evidence from Section 3.1. Theoretically,in sentiment analysis, as we are interested in the meaning of the words, the contextual words we aim to analysis should be sufficiently large. \n",
        "\n",
        "To set sg equal to 0, due to the Skip gram's strong assumption on independence of the contetxual words, which is not realistic from the RNN's point of view. \n",
        "\n",
        "Minmum count is set to 1, which is to include  as much as possibel in the analysis. There might be some less frequent words with lexion embedings of value 1 or 2. Those words are also important in our analysis and thus can not be ignored\n",
        "\n",
        "\n",
        "Finally, the dowloaded model of Ted talks is combined with the training and test words after the preprocessing. This is to increase the accuracy score of the model evaluation in the later stage. When the model trained has larger amount of the words, it is expecetd to perform better. "
      ]
    },
    {
      "cell_type": "code",
      "metadata": {
        "id": "TVPuwWgvNjOU"
      },
      "source": [
        "from gensim.models import  FastText\n",
        "size=100\n",
        "window=7\n",
        "min_count=1\n",
        "workers=8\n",
        "sg=0\n",
        "q=[b for a,b in my_training if len(b)>0 ]\n",
        "g=[b for a,b in my_testing if len(b)>0 ]\n",
        "total=q+g+sentences\n",
        "e=q+g"
      ],
      "execution_count": null,
      "outputs": []
    },
    {
      "cell_type": "markdown",
      "metadata": {
        "id": "LNys5HOdISK-"
      },
      "source": [
        "### 2.1.3. Train Word Embeddings Model"
      ]
    },
    {
      "cell_type": "code",
      "metadata": {
        "id": "Ae8i7Z2kIef-",
        "colab": {
          "base_uri": "https://localhost:8080/"
        },
        "outputId": "db395e21-bed1-4188-a22c-b46a381684a6"
      },
      "source": [
        "import numpy as np\n",
        "import torch\n",
        "wv_sg_model = FastText(sentences=total, size=size, window=window, min_count=5, workers=workers, sg=sg)\n",
        "word_list=[]\n",
        "for line in q:\n",
        "   for word in line:\n",
        "        if word not in word_list:\n",
        "                     word_list.append(word)\n",
        "word_embedings_training=[]\n",
        "for line in q:\n",
        "        sentence=[]\n",
        "        for word in line:\n",
        "              try: \n",
        "                   sentence.append(wv_sg_model[word])\n",
        "              except:\n",
        "                   pass\n",
        "        word_embedings_training.append(sentence)\n",
        "\n",
        "word_embedings_testing=[]\n",
        "for line in g:\n",
        "        sentence=[]\n",
        "        for word in line:\n",
        "             try:\n",
        "                  sentence.append(wv_sg_model[word])\n",
        "             except:\n",
        "                  pass\n",
        "        word_embedings_testing.append(sentence)\n"
      ],
      "execution_count": null,
      "outputs": [
        {
          "output_type": "stream",
          "text": [
            "/usr/local/lib/python3.7/dist-packages/ipykernel_launcher.py:14: DeprecationWarning: Call to deprecated `__getitem__` (Method will be removed in 4.0.0, use self.wv.__getitem__() instead).\n",
            "  \n",
            "/usr/local/lib/python3.7/dist-packages/ipykernel_launcher.py:24: DeprecationWarning: Call to deprecated `__getitem__` (Method will be removed in 4.0.0, use self.wv.__getitem__() instead).\n"
          ],
          "name": "stderr"
        }
      ]
    },
    {
      "cell_type": "markdown",
      "metadata": {
        "id": "T0ap96aeGlIk"
      },
      "source": [
        "## 2.2. Lexicon Embeddings"
      ]
    },
    {
      "cell_type": "markdown",
      "metadata": {
        "id": "d16v3oKaGlI0"
      },
      "source": [
        "### 2.2.1. Lexicon-based Embedding"
      ]
    },
    {
      "cell_type": "markdown",
      "metadata": {
        "id": "AKbLnN-3GlI1"
      },
      "source": [
        "*[Optional] You are required to describe why you would like to use more than one-dimensional embedding.*"
      ]
    },
    {
      "cell_type": "code",
      "metadata": {
        "id": "i2CUCL1cGlI2"
      },
      "source": [
        "# Please comment your code \n",
        "import pandas as pd \n",
        "negative = pd.read_csv(\"https://gist.githubusercontent.com/x2125001/a84405fe1529e81c6f3d4f8955a2d744/raw/2c8e3f886a9d3133947e08f62442b56bb1f11380/negative.txt\",header=None)\n",
        "negative=[a for a in negative[0]]\n",
        "positive=pd.read_csv(\"https://gist.githubusercontent.com/x2125001/a84405fe1529e81c6f3d4f8955a2d744/raw/2c8e3f886a9d3133947e08f62442b56bb1f11380/positive.txt\",header=None)\n",
        "positive=[a for a in positive[0]]\n",
        "Lexicon_Embedding_dic={}\n",
        "for a in e:\n",
        "        for word in a:\n",
        "            if word in negative:\n",
        "                Lexicon_Embedding_dic[word]=1\n",
        "            elif word in positive:\n",
        "                Lexicon_Embedding_dic[word]=2\n",
        "            else: Lexicon_Embedding_dic[word]=0"
      ],
      "execution_count": null,
      "outputs": []
    },
    {
      "cell_type": "code",
      "metadata": {
        "id": "2DiD05Ep3kuv"
      },
      "source": [
        "Lexicon_Embedding_training=[]\n",
        "for line in q:\n",
        "    b=[]\n",
        "    for word in line:\n",
        "       b.append(Lexicon_Embedding_dic[word])\n",
        "    Lexicon_Embedding_training.append(b)\n",
        "\n",
        "Lexicon_Embedding_testing=[]\n",
        "for line in g:\n",
        "    b=[]\n",
        "    for word in line:\n",
        "       b.append(Lexicon_Embedding_dic[word])\n",
        "    Lexicon_Embedding_testing.append(b)"
      ],
      "execution_count": null,
      "outputs": []
    },
    {
      "cell_type": "markdown",
      "metadata": {
        "id": "tlCeWT8eeLnd"
      },
      "source": [
        "## 2.3. Bi-directional RNN Sequence model"
      ]
    },
    {
      "cell_type": "markdown",
      "metadata": {
        "id": "fwA-NN3EJ4Ig"
      },
      "source": [
        "### 2.3.1. Apply/Import Word Embedding and Lexicon Embedding"
      ]
    },
    {
      "cell_type": "markdown",
      "metadata": {
        "id": "tDhGI8IBAWEO"
      },
      "source": [
        "TO concatenate the two embeddings together \n"
      ]
    },
    {
      "cell_type": "code",
      "metadata": {
        "id": "g7PKX1gIePA2"
      },
      "source": [
        "# Please comment your code\n",
        "import torch\n",
        "embedings_training=[]\n",
        "for i in range(len(word_embedings_training)):\n",
        "                    sentence=[]\n",
        "                    for j in range(len(word_embedings_training[i])):\n",
        "                          b=list(word_embedings_training[i][j])\n",
        "                          c=Lexicon_Embedding_training[i][j]\n",
        "                          b.append(c)\n",
        "                          sentence.append(b)\n",
        "                    embedings_training.append(sentence)\n",
        "\n",
        "embedings_testing=[]\n",
        "for i in range(len(word_embedings_testing)):\n",
        "                    sentence=[]\n",
        "                    for j in range(len(word_embedings_testing[i])):\n",
        "                          b=list(word_embedings_testing[i][j])\n",
        "                          c=Lexicon_Embedding_testing[i][j]\n",
        "                          b.append(c)\n",
        "                          sentence.append(b)\n",
        "                    embedings_testing.append(sentence) \n"
      ],
      "execution_count": null,
      "outputs": []
    },
    {
      "cell_type": "markdown",
      "metadata": {
        "id": "DpYCL17JKZxl"
      },
      "source": [
        "### 2.3.2. Build Sequence Model"
      ]
    },
    {
      "cell_type": "markdown",
      "metadata": {
        "id": "R204UIyDKhZ4"
      },
      "source": [
        "*You are required to describe how hyperparameters were decided with justification of your decision.*\n",
        "\n",
        "The sequence length is set to 25 which is equal to the maxmum length of the sentences in the training and testing data set plus five\n",
        "\n",
        "Number of inputs is set to 101 as the for each word, there is a vector representaion of 101 in length. \n",
        "\n",
        "Number of class is set to 2, which is corresponding to the number of lables in the training data set \"postive\" and \"Negative\"\n",
        "\n",
        "\n",
        "Leaning rate is determined at 0.0005777777777777 between 0.001 and 0.0001. \n",
        "When it is 0.001, it is learning too fast,which might lead to overfiting.And because we have a bigger batch size, we should not have the learning rate that is too small. Thus,0.005777 is chosen here. \n",
        "\n",
        "Number of hidden layer is set be as large as 100 given the large dimension of the input as 101. it is a complex issue, which requires larger number of hidden layers. \n"
      ]
    },
    {
      "cell_type": "code",
      "metadata": {
        "id": "13eCtR_SLUG6"
      },
      "source": [
        "# Please comment your code\n",
        "# The sequence length is set to 25 which is equal to the maxmum length of the sentences in the training and testing data set plus five.  \n",
        "seq_length = 25\n",
        "import pandas as pd\n",
        "import numpy as np\n",
        "#\n",
        "def encode_and_add_padding(sentences, seq_length):\n",
        "    sent_encoded = []\n",
        "    for sent in sentences:\n",
        "        c=sent\n",
        "        if len(c) < seq_length:\n",
        "          for i in range(25-len(c)):\n",
        "              c.append([0 for j in range(101)])\n",
        "        sent_encoded.append(c)\n",
        "    return sent_encoded\n",
        "\n",
        "train_pad_encoded = encode_and_add_padding(embedings_training, seq_length )\n",
        "train_pad_encoded=np.asarray(train_pad_encoded)\n",
        "testing_pad_encoded = encode_and_add_padding(embedings_testing, seq_length )\n",
        "testing_pad_encoded=np.asarray(testing_pad_encoded)"
      ],
      "execution_count": null,
      "outputs": []
    },
    {
      "cell_type": "markdown",
      "metadata": {
        "id": "EkacB39tiupB"
      },
      "source": [
        "Label encoding for the training data\n"
      ]
    },
    {
      "cell_type": "code",
      "metadata": {
        "id": "1fGeKOxSaFbv"
      },
      "source": [
        "training_label=[]\n",
        "for i in my_training:\n",
        "      if len(i[1])<=0:continue\n",
        "      training_label.append(i[0])\n",
        "testing_label=[]\n",
        "for i in my_testing:\n",
        "       if len(i[1])<=0:continue\n",
        "       testing_label.append(i[0])       \n",
        "import numpy as np\n",
        "\n",
        "from sklearn.preprocessing import LabelEncoder\n",
        "\n",
        "unique_labels = np.unique(training_label)\n",
        "\n",
        "lEnc = LabelEncoder()\n",
        "# Please encode the labels (Do NOT add ne)\n",
        "label_train_encoded = lEnc.fit_transform(training_label)\n",
        "label_test_encoded= lEnc.fit_transform(testing_label)"
      ],
      "execution_count": null,
      "outputs": []
    },
    {
      "cell_type": "code",
      "metadata": {
        "id": "gDNyxkIlyjg1"
      },
      "source": [
        "import numpy as np\n",
        "n_input = 101 \n",
        "n_class =2 \n",
        "\n",
        "n_hidden = 100\n",
        "batch_size = 256\n",
        "total_epoch = 22\n",
        "learning_rate = 0.0005777777777777\n"
      ],
      "execution_count": null,
      "outputs": []
    },
    {
      "cell_type": "code",
      "metadata": {
        "id": "3eo8-m3-kv8z"
      },
      "source": [
        "import torch\n",
        "# You can enable GPU here (cuda); or just CPU\n",
        "device = torch.device(\"cuda\" if torch.cuda.is_available() else \"cpu\")\n",
        "import torch.nn as nn\n",
        "import torch.nn.functional as F\n",
        "\n",
        "class Bi_RNN_Model(nn.Module):\n",
        "    def __init__(self):\n",
        "        super(Bi_RNN_Model, self).__init__()\n",
        "        # set the bidirectional to True\n",
        "        self.rnn = nn.RNN(n_input, n_hidden, batch_first =True, bidirectional=True)\n",
        "        self.linear = nn.Linear(2*n_hidden,n_class)\n",
        "\n",
        "    def forward(self, x):        \n",
        "        x, h_n = self.rnn(x)\n",
        "        # concat the last hidden state from two direction\n",
        "        hidden_out = torch.cat((h_n[0,:,:],h_n[1,:,:]),1)\n",
        "        output = self.linear(hidden_out)\n",
        "        return output\n",
        "\n"
      ],
      "execution_count": null,
      "outputs": []
    },
    {
      "cell_type": "markdown",
      "metadata": {
        "id": "6BaOiaGRLW7R"
      },
      "source": [
        "### 2.3.3. Train Sequence Model\n",
        "\n",
        "Note that it will not be marked if you do not display the Training Loss and the Number of Epochs in the Assignment 1 ipynb.\n"
      ]
    },
    {
      "cell_type": "code",
      "metadata": {
        "colab": {
          "base_uri": "https://localhost:8080/"
        },
        "id": "lVQnUSX1LZ6C",
        "outputId": "59aa34dd-11a0-4c34-860d-5ac157accfb6"
      },
      "source": [
        "from sklearn.metrics import accuracy_score\n",
        "import torch.optim as optim\n",
        "\n",
        "criterion = nn.CrossEntropyLoss()\n",
        "model = Bi_RNN_Model().to(device)\n",
        "optimizer = optim.Adam(model.parameters(), lr=learning_rate)\n",
        "\n",
        "for epoch in range(total_epoch):\n",
        "    train_loss = 0\n",
        "    for ind in range(0,train_pad_encoded.shape[0],batch_size):\n",
        "        input_batch = train_pad_encoded[ind:min(ind+batch_size, train_pad_encoded.shape[0])]\n",
        "        target_batch = label_train_encoded[ind:min(ind+batch_size,  train_pad_encoded.shape[0])]\n",
        "        input_batch_torch = torch.from_numpy(input_batch).float().to(device)\n",
        "        target_batch_torch = torch.from_numpy(target_batch).view(-1).to(device)\n",
        "\n",
        "\n",
        "        model.train()\n",
        "        optimizer.zero_grad()\n",
        "        outputs = model(input_batch_torch) \n",
        "        loss = criterion(outputs, target_batch_torch)\n",
        "        loss.backward()\n",
        "        optimizer.step()\n",
        "        \n",
        "        train_loss += loss.item()\n",
        "\n",
        "    print('Epoch: %d, train loss: %.5f'%(epoch + 1, train_loss))\n",
        "\n",
        "print('Finished Training')\n",
        "\n",
        "## Prediction\n",
        "model.eval()\n",
        "outputs = model(torch.from_numpy(testing_pad_encoded).float().to(device)) \n",
        "predicted = torch.argmax(outputs, 1)\n",
        "\n",
        "# classification_report builds a text report showing the main classification metrics\n",
        "# The returned report includes the 'weighted avg f1' we want (refer to the sample output)\n",
        "from sklearn.metrics import classification_report\n",
        "print(classification_report(label_test_encoded, predicted.cpu().numpy(),digits=4))"
      ],
      "execution_count": null,
      "outputs": [
        {
          "output_type": "stream",
          "text": [
            "Epoch: 1, train loss: 42.92588\n",
            "Epoch: 2, train loss: 21.29506\n",
            "Epoch: 3, train loss: 22.48330\n",
            "Epoch: 4, train loss: 21.84997\n",
            "Epoch: 5, train loss: 21.51405\n",
            "Epoch: 6, train loss: 21.29108\n",
            "Epoch: 7, train loss: 21.13336\n",
            "Epoch: 8, train loss: 20.98617\n",
            "Epoch: 9, train loss: 20.86657\n",
            "Epoch: 10, train loss: 20.73856\n",
            "Epoch: 11, train loss: 20.63213\n",
            "Epoch: 12, train loss: 20.51148\n",
            "Epoch: 13, train loss: 20.40532\n",
            "Epoch: 14, train loss: 20.28353\n",
            "Epoch: 15, train loss: 20.15637\n",
            "Epoch: 16, train loss: 20.01383\n",
            "Epoch: 17, train loss: 19.85843\n",
            "Epoch: 18, train loss: 19.71669\n",
            "Epoch: 19, train loss: 19.56661\n",
            "Epoch: 20, train loss: 19.41047\n",
            "Epoch: 21, train loss: 19.25019\n",
            "Epoch: 22, train loss: 19.06828\n",
            "Finished Training\n",
            "              precision    recall  f1-score   support\n",
            "\n",
            "           0     0.6302    0.5951    0.6122       988\n",
            "           1     0.6187    0.6529    0.6353       994\n",
            "\n",
            "    accuracy                         0.6241      1982\n",
            "   macro avg     0.6245    0.6240    0.6238      1982\n",
            "weighted avg     0.6244    0.6241    0.6238      1982\n",
            "\n"
          ],
          "name": "stdout"
        }
      ]
    },
    {
      "cell_type": "markdown",
      "metadata": {
        "id": "a4mpRpocePLN"
      },
      "source": [
        "# 3 - Evaluation\n"
      ]
    },
    {
      "cell_type": "markdown",
      "metadata": {
        "id": "lbLBzHObsvvM"
      },
      "source": [
        "## 3.1. Word Embedding Evaluation\n",
        "You are to apply Semantic-Syntactic word relationship tests for the trained word embeddings and visualise the result of Semantic-Syntactic word relationship tests.\n",
        "Note that it will not be marked if you do not display it in the ipynb file.\n"
      ]
    },
    {
      "cell_type": "markdown",
      "metadata": {
        "id": "MSIUsb7qtQEf"
      },
      "source": [
        "(*Please show your empirical evidence*)"
      ]
    },
    {
      "cell_type": "code",
      "metadata": {
        "colab": {
          "base_uri": "https://localhost:8080/"
        },
        "id": "tCrcXwcGsuuo",
        "outputId": "a21cad27-6749-4e76-98a2-3998398846d9"
      },
      "source": [
        "size=100\n",
        "window=7\n",
        "min_count=1\n",
        "workers=2\n",
        "sg=0\n",
        "wv_cbow_model = FastText(sentences=total, size=size, window=window, min_count=min_count, workers=workers, sg=sg)\n",
        "wv_cbow_model.wv.save_word2vec_format('combined_cbow_w2v.txt', binary=False)\n",
        "\n",
        "!git clone https://github.com/stanfordnlp/GloVe.git\n",
        "vectors_file=\"/content/combined_cbow_w2v.txt\"\n",
        "with open(vectors_file, 'r') as f:\n",
        "  vectors = {}\n",
        "  for line in f.readlines()[1:]: # we only need the embedding vectors starting from the second line \n",
        "    vals = line.rstrip().split(' ')\n",
        "    vectors[vals[0]] = [float(x) for x in vals[1:]]\n",
        "vocab_words=list(vectors.keys())\n",
        "vocab_size = len(vocab_words)\n",
        "print(\"Vocab size: \",str(vocab_size))\n",
        "\n",
        "# create word->index and index->word converter\n",
        "vocab = {w: idx for idx, w in enumerate(vocab_words)}\n",
        "ivocab = {idx: w for idx, w in enumerate(vocab_words)}\n",
        "# create the embedding matrix of shape (vocab_size, dim)\n",
        "vector_dim = len(vectors[ivocab[0]])\n",
        "W = np.zeros((vocab_size, vector_dim))\n",
        "for word, v in vectors.items():\n",
        "    if word == '<unk>':\n",
        "        continue\n",
        "    W[vocab[word], :] = v\n",
        "\n",
        "# normalize each word vector to unit length\n",
        "# Vectors are usually normalized to unit length before they are used for similarity calculation, making cosine similarity and dot-product equivalent.\n",
        "W_norm = np.zeros(W.shape)\n",
        "d = (np.sum(W ** 2, 1) ** (0.5))\n",
        "W_norm = (W.T / d).T\n",
        "def evaluate_vectors(W, vocab, prefix='./eval/question-data/'):\n",
        "    \"\"\"Evaluate the trained word vectors on a variety of tasks\"\"\"\n",
        "\n",
        "    filenames = [\n",
        "        'capital-common-countries.txt', 'capital-world.txt', 'currency.txt',\n",
        "        'city-in-state.txt', 'family.txt', 'gram1-adjective-to-adverb.txt',\n",
        "        'gram2-opposite.txt', 'gram3-comparative.txt', 'gram4-superlative.txt',\n",
        "        'gram5-present-participle.txt', 'gram6-nationality-adjective.txt',\n",
        "        'gram7-past-tense.txt', 'gram8-plural.txt', 'gram9-plural-verbs.txt',\n",
        "        ]\n",
        "\n",
        "    # to avoid memory overflow, could be increased/decreased\n",
        "    # depending on system and vocab size\n",
        "    split_size = 100\n",
        "\n",
        "    correct_sem = 0; # count correct semantic questions\n",
        "    correct_syn = 0; # count correct syntactic questions\n",
        "    correct_tot = 0 # count correct questions\n",
        "    count_sem = 0; # count all semantic questions\n",
        "    count_syn = 0; # count all syntactic questions\n",
        "    count_tot = 0 # count all questions\n",
        "    full_count = 0 # count all questions, including those with unknown words\n",
        "\n",
        "    for i in range(len(filenames)):\n",
        "        with open('%s/%s' % (prefix, filenames[i]), 'r') as f:\n",
        "            full_data = [line.rstrip().split(' ') for line in f]\n",
        "            full_count += len(full_data)\n",
        "            data = [x for x in full_data if all(word in vocab for word in x)]\n",
        "\n",
        "        if len(data) == 0:\n",
        "            print(\"ERROR: no lines of vocab kept for %s !\" % filenames[i])\n",
        "            print(\"Example missing line:\", full_data[0])\n",
        "            continue\n",
        "\n",
        "        indices = np.array([[vocab[word] for word in row] for row in data])\n",
        "        ind1, ind2, ind3, ind4 = indices.T\n",
        "\n",
        "        predictions = np.zeros((len(indices),))\n",
        "        num_iter = int(np.ceil(len(indices) / float(split_size)))\n",
        "        for j in range(num_iter):\n",
        "            subset = np.arange(j*split_size, min((j + 1)*split_size, len(ind1)))\n",
        "\n",
        "            pred_vec = (W[ind2[subset], :] - W[ind1[subset], :]\n",
        "                +  W[ind3[subset], :])\n",
        "\n",
        "            #cosine similarity if input W has been normalized\n",
        "            dist = np.dot(W, pred_vec.T)\n",
        "\n",
        "\n",
        "            for k in range(len(subset)):\n",
        "                dist[ind1[subset[k]], k] = -np.Inf\n",
        "                dist[ind2[subset[k]], k] = -np.Inf\n",
        "                dist[ind3[subset[k]], k] = -np.Inf\n",
        "\n",
        "            # predicted word index\n",
        "            predictions[subset] = np.argmax(dist, 0).flatten()\n",
        "\n",
        "        \n",
        "        val = (ind4 == predictions) # correct predictions\n",
        "        count_tot = count_tot + len(ind1)\n",
        "        correct_tot = correct_tot + sum(val)\n",
        "        if i < 5:\n",
        "            count_sem = count_sem + len(ind1)\n",
        "            correct_sem = correct_sem + sum(val)\n",
        "        else:\n",
        "            count_syn = count_syn + len(ind1)\n",
        "            correct_syn = correct_syn + sum(val)\n",
        "\n",
        "        print(\"%s:\" % filenames[i])\n",
        "        print('ACCURACY TOP1: %.2f%% (%d/%d)' %\n",
        "            (np.mean(val) * 100, np.sum(val), len(val)))\n",
        "        \n",
        "    return correct_sem, correct_syn, correct_tot, count_sem, count_syn, count_tot, full_count\n",
        "correct_sem, correct_syn, correct_tot, count_sem, count_syn, count_tot, full_count = evaluate_vectors(W_norm, vocab, prefix='/content/GloVe/eval/question-data')\n",
        "print('Questions seen/total: %.2f%% (%d/%d)' %\n",
        "    (100 * count_tot / float(full_count), count_tot, full_count))\n",
        "print('Semantic accuracy: %.2f%%  (%i/%i)' %\n",
        "    (100 * correct_sem / float(count_sem), correct_sem, count_sem))\n",
        "print('Syntactic accuracy: %.2f%%  (%i/%i)' %\n",
        "    (100 * correct_syn / float(count_syn), correct_syn, count_syn))\n",
        "print('Total accuracy: %.2f%%  (%i/%i)' % (100 * correct_tot / float(count_tot), correct_tot, count_tot))\n",
        "\n",
        "\n"
      ],
      "execution_count": null,
      "outputs": [
        {
          "output_type": "stream",
          "text": [
            "Cloning into 'GloVe'...\n",
            "remote: Enumerating objects: 595, done.\u001b[K\n",
            "remote: Counting objects: 100% (3/3), done.\u001b[K\n",
            "remote: Compressing objects: 100% (3/3), done.\u001b[K\n",
            "remote: Total 595 (delta 0), reused 1 (delta 0), pack-reused 592\u001b[K\n",
            "Receiving objects: 100% (595/595), 222.33 KiB | 6.01 MiB/s, done.\n",
            "Resolving deltas: 100% (338/338), done.\n",
            "Vocab size:  60037\n",
            "capital-common-countries.txt:\n",
            "ACCURACY TOP1: 0.59% (3/506)\n",
            "capital-world.txt:\n",
            "ACCURACY TOP1: 0.28% (5/1801)\n",
            "currency.txt:\n",
            "ACCURACY TOP1: 0.00% (0/106)\n",
            "city-in-state.txt:\n",
            "ACCURACY TOP1: 0.27% (4/1464)\n",
            "family.txt:\n",
            "ACCURACY TOP1: 11.05% (42/380)\n",
            "gram1-adjective-to-adverb.txt:\n",
            "ACCURACY TOP1: 57.20% (532/930)\n",
            "gram2-opposite.txt:\n",
            "ACCURACY TOP1: 79.50% (477/600)\n",
            "gram3-comparative.txt:\n",
            "ACCURACY TOP1: 64.19% (855/1332)\n",
            "gram4-superlative.txt:\n",
            "ACCURACY TOP1: 80.48% (903/1122)\n",
            "gram5-present-participle.txt:\n",
            "ACCURACY TOP1: 53.88% (569/1056)\n",
            "gram6-nationality-adjective.txt:\n",
            "ACCURACY TOP1: 20.20% (277/1371)\n",
            "gram7-past-tense.txt:\n",
            "ACCURACY TOP1: 10.77% (168/1560)\n",
            "gram8-plural.txt:\n",
            "ACCURACY TOP1: 42.49% (566/1332)\n",
            "gram9-plural-verbs.txt:\n",
            "ACCURACY TOP1: 56.09% (488/870)\n",
            "Questions seen/total: 73.83% (14430/19544)\n",
            "Semantic accuracy: 1.27%  (54/4257)\n",
            "Syntactic accuracy: 47.53%  (4835/10173)\n",
            "Total accuracy: 33.88%  (4889/14430)\n"
          ],
          "name": "stdout"
        }
      ]
    },
    {
      "cell_type": "markdown",
      "metadata": {
        "id": "-pXoqBQEvvoo"
      },
      "source": [
        "Visualize the results by \n",
        "trying dimentionality size in [100,300,500,1000] for Word2vec,\n",
        "window szie in [1,7,9,11], minimum count in [1],and method in [\"cbow\":0, \"skip gram\":1]\n",
        "\n",
        "\n",
        "\n"
      ]
    },
    {
      "cell_type": "markdown",
      "metadata": {
        "id": "ZmanZey52KoG"
      },
      "source": [
        ""
      ]
    },
    {
      "cell_type": "code",
      "metadata": {
        "colab": {
          "base_uri": "https://localhost:8080/",
          "height": 597
        },
        "id": "s78_LaR9wDAP",
        "outputId": "5850744e-b6e2-443e-9bf2-ff96979e631c"
      },
      "source": [
        "\n",
        "def evaluate_vectors(W, vocab, prefix='./eval/question-data/'):\n",
        "    \"\"\"Evaluate the trained word vectors on a variety of tasks\"\"\"\n",
        "\n",
        "    filenames = [\n",
        "        'capital-common-countries.txt', 'capital-world.txt', 'currency.txt',\n",
        "        'city-in-state.txt', 'family.txt', 'gram1-adjective-to-adverb.txt',\n",
        "        'gram2-opposite.txt', 'gram3-comparative.txt', 'gram4-superlative.txt',\n",
        "        'gram5-present-participle.txt', 'gram6-nationality-adjective.txt',\n",
        "        'gram7-past-tense.txt', 'gram8-plural.txt', 'gram9-plural-verbs.txt',\n",
        "        ]\n",
        "\n",
        "    # to avoid memory overflow, could be increased/decreased\n",
        "    # depending on system and vocab size\n",
        "    split_size = 100\n",
        "\n",
        "    correct_sem = 0; # count correct semantic questions\n",
        "    correct_syn = 0; # count correct syntactic questions\n",
        "    correct_tot = 0 # count correct questions\n",
        "    count_sem = 0; # count all semantic questions\n",
        "    count_syn = 0; # count all syntactic questions\n",
        "    count_tot = 0 # count all questions\n",
        "    full_count = 0 # count all questions, including those with unknown words\n",
        "\n",
        "    for i in range(len(filenames)):\n",
        "        with open('%s/%s' % (prefix, filenames[i]), 'r') as f:\n",
        "            full_data = [line.rstrip().split(' ') for line in f]\n",
        "            full_count += len(full_data)\n",
        "            data = [x for x in full_data if all(word in vocab for word in x)]\n",
        "\n",
        "        if len(data) == 0:\n",
        "            print(\"ERROR: no lines of vocab kept for %s !\" % filenames[i])\n",
        "            print(\"Example missing line:\", full_data[0])\n",
        "            continue\n",
        "\n",
        "        indices = np.array([[vocab[word] for word in row] for row in data])\n",
        "        ind1, ind2, ind3, ind4 = indices.T\n",
        "\n",
        "        predictions = np.zeros((len(indices),))\n",
        "        num_iter = int(np.ceil(len(indices) / float(split_size)))\n",
        "        for j in range(num_iter):\n",
        "            subset = np.arange(j*split_size, min((j + 1)*split_size, len(ind1)))\n",
        "\n",
        "            pred_vec = (W[ind2[subset], :] - W[ind1[subset], :]\n",
        "                +  W[ind3[subset], :])\n",
        "\n",
        "            #cosine similarity if input W has been normalized\n",
        "            dist = np.dot(W, pred_vec.T)\n",
        "\n",
        "\n",
        "            for k in range(len(subset)):\n",
        "                dist[ind1[subset[k]], k] = -np.Inf\n",
        "                dist[ind2[subset[k]], k] = -np.Inf\n",
        "                dist[ind3[subset[k]], k] = -np.Inf\n",
        "\n",
        "            # predicted word index\n",
        "            predictions[subset] = np.argmax(dist, 0).flatten()\n",
        "\n",
        "        \n",
        "        val = (ind4 == predictions) # correct predictions\n",
        "        count_tot = count_tot + len(ind1)\n",
        "        correct_tot = correct_tot + sum(val)\n",
        "        if i < 5:\n",
        "            count_sem = count_sem + len(ind1)\n",
        "            correct_sem = correct_sem + sum(val)\n",
        "        else:\n",
        "            count_syn = count_syn + len(ind1)\n",
        "            correct_syn = correct_syn + sum(val)\n",
        "        \n",
        "    return correct_sem, correct_syn, correct_tot, count_sem, count_syn, count_tot, full_count\n",
        "\n",
        "\n",
        "workers=10\n",
        "dimension=[]\n",
        "window_size=[]\n",
        "min_count_list=[]\n",
        "Syntactic_accuracy=[]\n",
        "Semantic_accuracy=[]\n",
        "Total_accuracy=[]\n",
        "method=[]\n",
        "i=1\n",
        "for size in [100,300,500]:\n",
        "     for window in [1,7,9,]:\n",
        "         for min_count in [1]:\n",
        "            for sg in [0,1]:\n",
        "                wv_cbow_model = FastText(sentences=total, size=size, window=window, min_count=min_count, workers=workers, sg=sg)\n",
        "                wv_cbow_model.wv.save_word2vec_format('combined_cbow_w2v.txt', binary=False)\n",
        "                i+=1\n",
        "                print(i)\n",
        "                !git clone https://github.com/stanfordnlp/GloVe.git\n",
        "                vectors_file=\"/content/combined_cbow_w2v.txt\"\n",
        "                with open(vectors_file, 'r') as f:\n",
        "                     vectors = {}\n",
        "                     for line in f.readlines()[1:]: # we only need the embedding vectors starting from the second line \n",
        "                        vals = line.rstrip().split(' ')\n",
        "                        vectors[vals[0]] = [float(x) for x in vals[1:]]\n",
        "                vocab_words=list(vectors.keys())\n",
        "                vocab_size = len(vocab_words)\n",
        "                print(\"Vocab size: \",str(vocab_size))\n",
        "\n",
        "                vocab = {w: idx for idx, w in enumerate(vocab_words)}\n",
        "                ivocab = {idx: w for idx, w in enumerate(vocab_words)}\n",
        "\n",
        "                vector_dim = len(vectors[ivocab[0]])\n",
        "                W = np.zeros((vocab_size, vector_dim))\n",
        "                for word, v in vectors.items():\n",
        "                         if word == '<unk>':\n",
        "                               continue\n",
        "                         W[vocab[word], :] = v\n",
        "                W_norm = np.zeros(W.shape)\n",
        "                d = (np.sum(W ** 2, 1) ** (0.5))\n",
        "                W_norm = (W.T / d).T\n",
        "                correct_sem, correct_syn, correct_tot, count_sem, count_syn, count_tot, full_count = evaluate_vectors(W_norm, vocab, prefix='/content/GloVe/eval/question-data')\n",
        "                Syntactic_accuracy.append(correct_syn / float(count_syn))\n",
        "                Semantic_accuracy.append(correct_sem / float(count_sem))\n",
        "                Total_accuracy.append(correct_tot / float(count_tot))\n",
        "                window_size.append(window)\n",
        "                min_count_list.append(min_count)\n",
        "                method.append(sg)\n",
        "                dimension.append(size)\n",
        "dict_data={}\n",
        "dict_data[\"model\"]=[\"fastText\" for i in range(18)]\n",
        "dict_data[\"minimum_count\"]= min_count_list\n",
        "dict_data[\"dimension\"]=dimension\n",
        "dict_data[\"method\"]=method \n",
        "dict_data[\"window_size\"]=window_size\n",
        "dict_data[\"Total_accuracy\"]=Total_accuracy\n",
        "dict_data[\"Semantic_accuracy\"]= Semantic_accuracy\n",
        "dict_data[\"Syntactic_accuracy\"]= Syntactic_accuracy\n",
        "table=pd.DataFrame(dict_data)\n",
        "pd.set_option(\"display.max_rows\", None, \"display.max_columns\", None)\n",
        "print(\"method 0=cbow and method 1=skip gram\")\n",
        "\n",
        "table\n",
        "\n"
      ],
      "execution_count": null,
      "outputs": [
        {
          "output_type": "stream",
          "text": [
            "method 0=cbow and method 1=skip gram\n"
          ],
          "name": "stdout"
        },
        {
          "output_type": "execute_result",
          "data": {
            "text/html": [
              "<div>\n",
              "<style scoped>\n",
              "    .dataframe tbody tr th:only-of-type {\n",
              "        vertical-align: middle;\n",
              "    }\n",
              "\n",
              "    .dataframe tbody tr th {\n",
              "        vertical-align: top;\n",
              "    }\n",
              "\n",
              "    .dataframe thead th {\n",
              "        text-align: right;\n",
              "    }\n",
              "</style>\n",
              "<table border=\"1\" class=\"dataframe\">\n",
              "  <thead>\n",
              "    <tr style=\"text-align: right;\">\n",
              "      <th></th>\n",
              "      <th>model</th>\n",
              "      <th>minimum_count</th>\n",
              "      <th>dimension</th>\n",
              "      <th>method</th>\n",
              "      <th>window_size</th>\n",
              "      <th>Total_accuracy</th>\n",
              "      <th>Semantic_accuracy</th>\n",
              "      <th>Syntactic_accuracy</th>\n",
              "    </tr>\n",
              "  </thead>\n",
              "  <tbody>\n",
              "    <tr>\n",
              "      <th>0</th>\n",
              "      <td>fastText</td>\n",
              "      <td>1</td>\n",
              "      <td>100</td>\n",
              "      <td>0</td>\n",
              "      <td>1</td>\n",
              "      <td>0.349965</td>\n",
              "      <td>0.019497</td>\n",
              "      <td>0.488253</td>\n",
              "    </tr>\n",
              "    <tr>\n",
              "      <th>1</th>\n",
              "      <td>fastText</td>\n",
              "      <td>1</td>\n",
              "      <td>100</td>\n",
              "      <td>1</td>\n",
              "      <td>1</td>\n",
              "      <td>0.389882</td>\n",
              "      <td>0.022786</td>\n",
              "      <td>0.543497</td>\n",
              "    </tr>\n",
              "    <tr>\n",
              "      <th>2</th>\n",
              "      <td>fastText</td>\n",
              "      <td>1</td>\n",
              "      <td>100</td>\n",
              "      <td>0</td>\n",
              "      <td>7</td>\n",
              "      <td>0.340679</td>\n",
              "      <td>0.011510</td>\n",
              "      <td>0.478423</td>\n",
              "    </tr>\n",
              "    <tr>\n",
              "      <th>3</th>\n",
              "      <td>fastText</td>\n",
              "      <td>1</td>\n",
              "      <td>100</td>\n",
              "      <td>1</td>\n",
              "      <td>7</td>\n",
              "      <td>0.408108</td>\n",
              "      <td>0.035706</td>\n",
              "      <td>0.563944</td>\n",
              "    </tr>\n",
              "    <tr>\n",
              "      <th>4</th>\n",
              "      <td>fastText</td>\n",
              "      <td>1</td>\n",
              "      <td>100</td>\n",
              "      <td>0</td>\n",
              "      <td>9</td>\n",
              "      <td>0.342065</td>\n",
              "      <td>0.012920</td>\n",
              "      <td>0.479799</td>\n",
              "    </tr>\n",
              "    <tr>\n",
              "      <th>5</th>\n",
              "      <td>fastText</td>\n",
              "      <td>1</td>\n",
              "      <td>100</td>\n",
              "      <td>1</td>\n",
              "      <td>9</td>\n",
              "      <td>0.402980</td>\n",
              "      <td>0.034531</td>\n",
              "      <td>0.557161</td>\n",
              "    </tr>\n",
              "    <tr>\n",
              "      <th>6</th>\n",
              "      <td>fastText</td>\n",
              "      <td>1</td>\n",
              "      <td>300</td>\n",
              "      <td>0</td>\n",
              "      <td>1</td>\n",
              "      <td>0.357588</td>\n",
              "      <td>0.020202</td>\n",
              "      <td>0.498771</td>\n",
              "    </tr>\n",
              "    <tr>\n",
              "      <th>7</th>\n",
              "      <td>fastText</td>\n",
              "      <td>1</td>\n",
              "      <td>300</td>\n",
              "      <td>1</td>\n",
              "      <td>1</td>\n",
              "      <td>0.410534</td>\n",
              "      <td>0.023726</td>\n",
              "      <td>0.572398</td>\n",
              "    </tr>\n",
              "    <tr>\n",
              "      <th>8</th>\n",
              "      <td>fastText</td>\n",
              "      <td>1</td>\n",
              "      <td>300</td>\n",
              "      <td>0</td>\n",
              "      <td>7</td>\n",
              "      <td>0.346500</td>\n",
              "      <td>0.011745</td>\n",
              "      <td>0.486582</td>\n",
              "    </tr>\n",
              "    <tr>\n",
              "      <th>9</th>\n",
              "      <td>fastText</td>\n",
              "      <td>1</td>\n",
              "      <td>300</td>\n",
              "      <td>1</td>\n",
              "      <td>7</td>\n",
              "      <td>0.419751</td>\n",
              "      <td>0.026310</td>\n",
              "      <td>0.584390</td>\n",
              "    </tr>\n",
              "    <tr>\n",
              "      <th>10</th>\n",
              "      <td>fastText</td>\n",
              "      <td>1</td>\n",
              "      <td>300</td>\n",
              "      <td>0</td>\n",
              "      <td>9</td>\n",
              "      <td>0.340679</td>\n",
              "      <td>0.012685</td>\n",
              "      <td>0.477932</td>\n",
              "    </tr>\n",
              "    <tr>\n",
              "      <th>11</th>\n",
              "      <td>fastText</td>\n",
              "      <td>1</td>\n",
              "      <td>300</td>\n",
              "      <td>1</td>\n",
              "      <td>9</td>\n",
              "      <td>0.413306</td>\n",
              "      <td>0.023961</td>\n",
              "      <td>0.576231</td>\n",
              "    </tr>\n",
              "    <tr>\n",
              "      <th>12</th>\n",
              "      <td>fastText</td>\n",
              "      <td>1</td>\n",
              "      <td>500</td>\n",
              "      <td>0</td>\n",
              "      <td>1</td>\n",
              "      <td>0.357311</td>\n",
              "      <td>0.019262</td>\n",
              "      <td>0.498771</td>\n",
              "    </tr>\n",
              "    <tr>\n",
              "      <th>13</th>\n",
              "      <td>fastText</td>\n",
              "      <td>1</td>\n",
              "      <td>500</td>\n",
              "      <td>1</td>\n",
              "      <td>1</td>\n",
              "      <td>0.403742</td>\n",
              "      <td>0.023256</td>\n",
              "      <td>0.562961</td>\n",
              "    </tr>\n",
              "    <tr>\n",
              "      <th>14</th>\n",
              "      <td>fastText</td>\n",
              "      <td>1</td>\n",
              "      <td>500</td>\n",
              "      <td>0</td>\n",
              "      <td>7</td>\n",
              "      <td>0.345877</td>\n",
              "      <td>0.011510</td>\n",
              "      <td>0.485796</td>\n",
              "    </tr>\n",
              "    <tr>\n",
              "      <th>15</th>\n",
              "      <td>fastText</td>\n",
              "      <td>1</td>\n",
              "      <td>500</td>\n",
              "      <td>1</td>\n",
              "      <td>7</td>\n",
              "      <td>0.418642</td>\n",
              "      <td>0.023021</td>\n",
              "      <td>0.584193</td>\n",
              "    </tr>\n",
              "    <tr>\n",
              "      <th>16</th>\n",
              "      <td>fastText</td>\n",
              "      <td>1</td>\n",
              "      <td>500</td>\n",
              "      <td>0</td>\n",
              "      <td>9</td>\n",
              "      <td>0.344491</td>\n",
              "      <td>0.011745</td>\n",
              "      <td>0.483731</td>\n",
              "    </tr>\n",
              "    <tr>\n",
              "      <th>17</th>\n",
              "      <td>fastText</td>\n",
              "      <td>1</td>\n",
              "      <td>500</td>\n",
              "      <td>1</td>\n",
              "      <td>9</td>\n",
              "      <td>0.416632</td>\n",
              "      <td>0.023491</td>\n",
              "      <td>0.581146</td>\n",
              "    </tr>\n",
              "  </tbody>\n",
              "</table>\n",
              "</div>"
            ],
            "text/plain": [
              "       model  minimum_count  dimension  method  window_size  Total_accuracy  \\\n",
              "0   fastText              1        100       0            1        0.349965   \n",
              "1   fastText              1        100       1            1        0.389882   \n",
              "2   fastText              1        100       0            7        0.340679   \n",
              "3   fastText              1        100       1            7        0.408108   \n",
              "4   fastText              1        100       0            9        0.342065   \n",
              "5   fastText              1        100       1            9        0.402980   \n",
              "6   fastText              1        300       0            1        0.357588   \n",
              "7   fastText              1        300       1            1        0.410534   \n",
              "8   fastText              1        300       0            7        0.346500   \n",
              "9   fastText              1        300       1            7        0.419751   \n",
              "10  fastText              1        300       0            9        0.340679   \n",
              "11  fastText              1        300       1            9        0.413306   \n",
              "12  fastText              1        500       0            1        0.357311   \n",
              "13  fastText              1        500       1            1        0.403742   \n",
              "14  fastText              1        500       0            7        0.345877   \n",
              "15  fastText              1        500       1            7        0.418642   \n",
              "16  fastText              1        500       0            9        0.344491   \n",
              "17  fastText              1        500       1            9        0.416632   \n",
              "\n",
              "    Semantic_accuracy  Syntactic_accuracy  \n",
              "0            0.019497            0.488253  \n",
              "1            0.022786            0.543497  \n",
              "2            0.011510            0.478423  \n",
              "3            0.035706            0.563944  \n",
              "4            0.012920            0.479799  \n",
              "5            0.034531            0.557161  \n",
              "6            0.020202            0.498771  \n",
              "7            0.023726            0.572398  \n",
              "8            0.011745            0.486582  \n",
              "9            0.026310            0.584390  \n",
              "10           0.012685            0.477932  \n",
              "11           0.023961            0.576231  \n",
              "12           0.019262            0.498771  \n",
              "13           0.023256            0.562961  \n",
              "14           0.011510            0.485796  \n",
              "15           0.023021            0.584193  \n",
              "16           0.011745            0.483731  \n",
              "17           0.023491            0.581146  "
            ]
          },
          "metadata": {
            "tags": []
          },
          "execution_count": 40
        }
      ]
    },
    {
      "cell_type": "code",
      "metadata": {
        "colab": {
          "base_uri": "https://localhost:8080/",
          "height": 312
        },
        "id": "obH_QXnXn8x9",
        "outputId": "5b040faa-b716-4591-adc5-a6e566f48447"
      },
      "source": [
        " import matplotlib.pyplot as plt\n",
        " constant=table[(table[\"method\"] == 1)]\n",
        " constant=constant[(constant[\"window_size\"] == 7)]\n",
        " plt.plot(constant[\"dimension\"], constant[\"Semantic_accuracy\"], label = \"semantic accuracy\")\n",
        " plt.xlabel(\"Dimension\")\n",
        " plt.ylabel(\"Semantic_Accuracy\")\n",
        " plt.title('window_size is 7 and method is skip-gram')\n",
        " \n",
        " \n",
        " constant=table[(table[\"method\"] == 1)]\n",
        " constant=constant[(constant[\"window_size\"] == 7)]\n",
        " plt.plot(constant[\"dimension\"], constant[\"Syntactic_accuracy\"], label = \"syntactic accuracy\")\n",
        " plt.xlabel(\"Dimension\")\n",
        " \n",
        "constant=table[(table[\"method\"] == 1)]\n",
        " constant=constant[(constant[\"window_size\"] == 7)]\n",
        " plt.plot(constant[\"dimension\"], constant[\"Total_accuracy\"], label = \"total accuracy\")\n",
        " plt.xlabel(\"Dimension\")\n",
        " plt.ylabel(\"accuracy\")\n",
        "plt.legend()\n",
        "\n",
        "        \n"
      ],
      "execution_count": null,
      "outputs": [
        {
          "output_type": "execute_result",
          "data": {
            "text/plain": [
              "<matplotlib.legend.Legend at 0x7fb44a20b0d0>"
            ]
          },
          "metadata": {
            "tags": []
          },
          "execution_count": 71
        },
        {
          "output_type": "display_data",
          "data": {
            "image/png": "[encoded data removed]",
            "text/plain": [
              "<Figure size 432x288 with 1 Axes>"
            ]
          },
          "metadata": {
            "tags": [],
            "needs_background": "light"
          }
        }
      ]
    },
    {
      "cell_type": "markdown",
      "metadata": {
        "id": "P6uL8u-2m0Ve"
      },
      "source": [
        "When we use the model of FastText, keep the minimum count of word as 1, and set up the window size as 7, the increase in the size of dimension does not apperas to dramtically increase the semantic accuracy , total accuracy, and syntactic accuracy. However, we can also see that for semantic accuracy and syntactic accuracy, increase the size of dimension generally increases the accurcy scores \n",
        "\n",
        "\n",
        "\n",
        "\n",
        "\n"
      ]
    },
    {
      "cell_type": "code",
      "metadata": {
        "colab": {
          "base_uri": "https://localhost:8080/",
          "height": 312
        },
        "id": "hZBtB3UssWTH",
        "outputId": "08c192d8-4060-4466-90f9-4f89e2841c89"
      },
      "source": [
        " import matplotlib.pyplot as plt\n",
        " constant=table[(table[\"method\"] == 0)]\n",
        " constant=constant[(constant[\"window_size\"] == 7)]\n",
        " plt.plot(constant[\"dimension\"], constant[\"Semantic_accuracy\"], label = \"semantic accuracy\")\n",
        " plt.xlabel(\"Dimension\")\n",
        " plt.ylabel(\"Semantic_Accuracy\")\n",
        " plt.title('window_size is 7 and method is cbow')\n",
        " \n",
        " \n",
        " constant=table[(table[\"method\"] == 0)]\n",
        " constant=constant[(constant[\"window_size\"] == 7)]\n",
        " plt.plot(constant[\"dimension\"], constant[\"Syntactic_accuracy\"], label = \"syntactic accuracy\")\n",
        " plt.xlabel(\"Dimension\")\n",
        " \n",
        "constant=table[(table[\"method\"] == 0)]\n",
        " constant=constant[(constant[\"window_size\"] == 7)]\n",
        " plt.plot(constant[\"dimension\"], constant[\"Total_accuracy\"], label = \"total accuracy\")\n",
        " plt.xlabel(\"Dimension\")\n",
        " plt.ylabel(\"Accuracy\")\n",
        "plt.legend()\n"
      ],
      "execution_count": null,
      "outputs": [
        {
          "output_type": "execute_result",
          "data": {
            "text/plain": [
              "<matplotlib.legend.Legend at 0x7fb447c9d2d0>"
            ]
          },
          "metadata": {
            "tags": []
          },
          "execution_count": 73
        },
        {
          "output_type": "display_data",
          "data": {
            "image/png": "[encoded data removed]",
            "text/plain": [
              "<Figure size 432x288 with 1 Axes>"
            ]
          },
          "metadata": {
            "tags": [],
            "needs_background": "light"
          }
        }
      ]
    },
    {
      "cell_type": "markdown",
      "metadata": {
        "id": "hKuHhyxos4Al"
      },
      "source": [
        "**At for the methods of CBOW, the synatactic_accuracy, sematic accuracy, and total accuracy do not\n",
        " have significant change as we incerase the size of the dimension, as it is shown above.**"
      ]
    },
    {
      "cell_type": "code",
      "metadata": {
        "colab": {
          "base_uri": "https://localhost:8080/",
          "height": 313
        },
        "id": "xh36lYIZ17bH",
        "outputId": "08cd6628-2002-4184-8799-cef54724caf9"
      },
      "source": [
        " constant=table[(table[\"method\"] == 0)]\n",
        " constant=constant[(constant[\"dimension\"] == 100)]\n",
        " plt.plot(constant[\"window_size\"], constant[\"Semantic_accuracy\"], label = \"semantic accuracy\")\n",
        " plt.xlabel(\"Dimension\")\n",
        " plt.ylabel(\"Semantic_Accuracy\")\n",
        " plt.title('dimension is 100  and method is cbow')\n",
        " \n",
        " \n",
        " constant=table[(table[\"method\"] == 0)]\n",
        " constant=constant[(constant[\"dimension\"] == 100)]\n",
        " plt.plot(constant[\"window_size\"], constant[\"Syntactic_accuracy\"], label = \"syntactic accuracy\")\n",
        " plt.xlabel(\"Dimension\")\n",
        " \n",
        "constant=table[(table[\"method\"] == 0)]\n",
        " constant=constant[(constant[\"dimension\"] == 100)]\n",
        " plt.plot(constant[\"window_size\"], constant[\"Total_accuracy\"], label = \"total accuracy\")\n",
        " plt.xlabel(\"Window_size\")\n",
        " plt.ylabel(\"Accuracy\")\n",
        "plt.legend()"
      ],
      "execution_count": null,
      "outputs": [
        {
          "output_type": "execute_result",
          "data": {
            "text/plain": [
              "<matplotlib.legend.Legend at 0x7fb4478e2150>"
            ]
          },
          "metadata": {
            "tags": []
          },
          "execution_count": 75
        },
        {
          "output_type": "display_data",
          "data": {
            "image/png": "[encoded data removed]",
            "text/plain": [
              "<Figure size 432x288 with 1 Axes>"
            ]
          },
          "metadata": {
            "tags": [],
            "needs_background": "light"
          }
        }
      ]
    },
    {
      "cell_type": "markdown",
      "metadata": {
        "id": "OTi7bMaM3KL3"
      },
      "source": [
        "The incrase in window size also does not benefit the three accuracy scores for CBOW and dimension 100, as it was shown above \n"
      ]
    },
    {
      "cell_type": "code",
      "metadata": {
        "colab": {
          "base_uri": "https://localhost:8080/",
          "height": 313
        },
        "id": "yRD8YH8_yQJa",
        "outputId": "aacc590d-eafe-4ec5-db7e-afdd0fde1e69"
      },
      "source": [
        " constant=table[(table[\"method\"] == 1)]\n",
        " constant=constant[(constant[\"dimension\"] == 100)]\n",
        " plt.plot(constant[\"window_size\"], constant[\"Semantic_accuracy\"], label = \"semantic accuracy\")\n",
        " plt.xlabel(\"Dimension\")\n",
        " plt.ylabel(\"Semantic_Accuracy\")\n",
        " plt.title('dimension is 100  and method is skip gram')\n",
        " \n",
        " \n",
        " constant=table[(table[\"method\"] == 1)]\n",
        " constant=constant[(constant[\"dimension\"] == 100)]\n",
        " plt.plot(constant[\"window_size\"], constant[\"Syntactic_accuracy\"], label = \"syntactic accuracy\")\n",
        " plt.xlabel(\"Dimension\")\n",
        " \n",
        "constant=table[(table[\"method\"] == 1)]\n",
        " constant=constant[(constant[\"dimension\"] == 100)]\n",
        " plt.plot(constant[\"window_size\"], constant[\"Total_accuracy\"], label = \"total accuracy\")\n",
        " plt.xlabel(\"Window_size\")\n",
        " plt.ylabel(\"Accuracy\")\n",
        "plt.legend()"
      ],
      "execution_count": null,
      "outputs": [
        {
          "output_type": "execute_result",
          "data": {
            "text/plain": [
              "<matplotlib.legend.Legend at 0x7fb44752b290>"
            ]
          },
          "metadata": {
            "tags": []
          },
          "execution_count": 76
        },
        {
          "output_type": "display_data",
          "data": {
            "image/png": "[encoded data removed]",
            "text/plain": [
              "<Figure size 432x288 with 1 Axes>"
            ]
          },
          "metadata": {
            "tags": [],
            "needs_background": "light"
          }
        }
      ]
    },
    {
      "cell_type": "markdown",
      "metadata": {
        "id": "fceOoSpf4ytg"
      },
      "source": [
        "The incrase in window size also does not benefit the three accuracy scores for skipgram and dimension 100, as it was shown above \n",
        "\n",
        "In conclusion, it appears that the parameter choice as keeping the minimum count as 1 might have potentially lowered the all accuracy scores. However, it is needed in this model for the benefit of lexicon embeddings as some rare words might have positive or negative sentiments asscoiated with, which are valuable in our model \n",
        "\n",
        "\n"
      ]
    },
    {
      "cell_type": "markdown",
      "metadata": {
        "id": "KEW1zMgVMREr"
      },
      "source": [
        "## 3.2. Performance Evaluation\n",
        "\n",
        "\n",
        "You are required to provide the table with precision, recall, f1 of test set.\n",
        "Note that it will not be marked if you do not display it in the ipynb file.\n"
      ]
    },
    {
      "cell_type": "markdown",
      "metadata": {
        "id": "oVCF0bwTtRS0"
      },
      "source": [
        "(*Please show your empirical evidence*)"
      ]
    },
    {
      "cell_type": "code",
      "metadata": {
        "id": "LPHCb-bneTI9",
        "colab": {
          "base_uri": "https://localhost:8080/"
        },
        "outputId": "a6f98784-7b87-4efd-b2dd-7205b8291ef4"
      },
      "source": [
        "## Prediction\n",
        "model.eval()\n",
        "outputs = model(torch.from_numpy(testing_pad_encoded).float().to(device)) \n",
        "predicted = torch.argmax(outputs, 1)\n",
        "\n",
        "# classification_report builds a text report showing the main classification metrics\n",
        "# The returned report includes the 'weighted avg f1' we want (refer to the sample output)\n",
        "# More details can be found from: https://scikit-learn.org/stable/modules/generated/sklearn.metrics.classification_report.html\n",
        "from sklearn.metrics import classification_report\n",
        "print(classification_report(label_test_encoded, predicted.cpu().numpy(),digits=4))"
      ],
      "execution_count": null,
      "outputs": [
        {
          "output_type": "stream",
          "text": [
            "              precision    recall  f1-score   support\n",
            "\n",
            "           0     0.6186    0.5992    0.6087       988\n",
            "           1     0.6137    0.6328    0.6231       994\n",
            "\n",
            "    accuracy                         0.6160      1982\n",
            "   macro avg     0.6161    0.6160    0.6159      1982\n",
            "weighted avg     0.6161    0.6160    0.6159      1982\n",
            "\n"
          ],
          "name": "stdout"
        }
      ]
    },
    {
      "cell_type": "markdown",
      "metadata": {
        "id": "P28Z1k36MZuo"
      },
      "source": [
        "## 3.3. Hyperparameter Testing\n",
        "*You are required to draw a graph(y-axis: f1, x-axis: epoch) for test set and explain the optimal number of epochs based on the learning rate you have already chosen.* Note that it will not be marked if you do not display it in the ipynb file.\n"
      ]
    },
    {
      "cell_type": "markdown",
      "metadata": {
        "id": "BYzrA_s2tTaz"
      },
      "source": [
        "(*Please show your empirical evidence*)"
      ]
    },
    {
      "cell_type": "code",
      "metadata": {
        "id": "wTLyQEeZMZ2f",
        "colab": {
          "base_uri": "https://localhost:8080/",
          "height": 296
        },
        "outputId": "c35fab3d-2e2b-4bd3-bcf0-ca5020cfc2e3"
      },
      "source": [
        "f1_score=[]\n",
        "learning=[]\n",
        "optimal_epoch=[]\n",
        "\n",
        "import numpy as np\n",
        "n_input = 101 \n",
        "n_class =2 \n",
        "\n",
        "n_hidden = 100\n",
        "batch_size = 256\n",
        "total_epoch = 50\n",
        "learning_rate = 0.0005777777777777 \n",
        "criterion = nn.CrossEntropyLoss()\n",
        "model = Bi_RNN_Model()\n",
        "optimizer = optim.Adam(model.parameters(), lr=learning_rate)\n",
        "for epoch in range(total_epoch):\n",
        "    train_loss = 0\n",
        "    for ind in range(0,train_pad_encoded.shape[0],batch_size):\n",
        "        input_batch = train_pad_encoded[ind:min(ind+batch_size, train_pad_encoded.shape[0])]\n",
        "        target_batch = label_train_encoded[ind:min(ind+batch_size,  train_pad_encoded.shape[0])]\n",
        "        input_batch_torch = torch.from_numpy(input_batch).float().to(device)\n",
        "        target_batch_torch = torch.from_numpy(target_batch).view(-1).to(device)\n",
        "\n",
        "\n",
        "        model.train()\n",
        "        optimizer.zero_grad()\n",
        "        outputs = model(input_batch_torch) \n",
        "        loss = criterion(outputs, target_batch_torch)\n",
        "        loss.backward()\n",
        "        optimizer.step()\n",
        "        \n",
        "        train_loss += loss.item()\n",
        "\n",
        "    print('Epoch: %d, train loss: %.5f'%(epoch + 1, train_loss))\n",
        "\n",
        "print('Finished Training')\n",
        "\n",
        "## Prediction\n",
        "model.eval()\n",
        "outputs = model(torch.from_numpy(testing_pad_encoded).float().to(device)) \n",
        "predicted = torch.argmax(outputs, 1)\n",
        "\n",
        "# classification_report builds a text report showing the main classification metrics\n",
        "# The returned report includes the 'weighted avg f1' we want (refer to the sample output)\n",
        "from sklearn.metrics import classification_report\n",
        "a=classification_report(label_test_encoded, predicted.cpu().numpy(),digits=4,output_dict=True)\n",
        "f1_score.append(a[\"weighted avg\"]['f1-score'])\n",
        "learning.append(learning_rate)\n",
        "optimal_epoch.append(total_epoch) \n",
        "\n",
        "  \n",
        "\n",
        "\n",
        "\n",
        "\n",
        "\n",
        "\n",
        "import numpy as np\n",
        "n_input = 101 \n",
        "n_class =2 \n",
        "\n",
        "n_hidden = 100\n",
        "batch_size = 256\n",
        "total_epoch = 25\n",
        "learning_rate = 0.0005777777777777 \n",
        "criterion = nn.CrossEntropyLoss()\n",
        "model = Bi_RNN_Model()\n",
        "optimizer = optim.Adam(model.parameters(), lr=learning_rate)\n",
        "for epoch in range(total_epoch):\n",
        "    train_loss = 0\n",
        "    for ind in range(0,train_pad_encoded.shape[0],batch_size):\n",
        "        input_batch = train_pad_encoded[ind:min(ind+batch_size, train_pad_encoded.shape[0])]\n",
        "        target_batch = label_train_encoded[ind:min(ind+batch_size,  train_pad_encoded.shape[0])]\n",
        "        input_batch_torch = torch.from_numpy(input_batch).float().to(device)\n",
        "        target_batch_torch = torch.from_numpy(target_batch).view(-1).to(device)\n",
        "\n",
        "\n",
        "        model.train()\n",
        "        optimizer.zero_grad()\n",
        "        outputs = model(input_batch_torch) \n",
        "        loss = criterion(outputs, target_batch_torch)\n",
        "        loss.backward()\n",
        "        optimizer.step()\n",
        "        \n",
        "        train_loss += loss.item()\n",
        "\n",
        "    print('Epoch: %d, train loss: %.5f'%(epoch + 1, train_loss))\n",
        "\n",
        "print('Finished Training')\n",
        "\n",
        "## Prediction\n",
        "model.eval()\n",
        "outputs = model(torch.from_numpy(testing_pad_encoded).float().to(device)) \n",
        "predicted = torch.argmax(outputs, 1)\n",
        "\n",
        "# classification_report builds a text report showing the main classification metrics\n",
        "# The returned report includes the 'weighted avg f1' we want (refer to the sample output)\n",
        "from sklearn.metrics import classification_report\n",
        "a=classification_report(label_test_encoded, predicted.cpu().numpy(),digits=4,output_dict=True)\n",
        "f1_score.append(a[\"weighted avg\"]['f1-score'])\n",
        "learning.append(learning_rate)\n",
        "optimal_epoch.append(total_epoch) \n",
        "\n",
        "  \n",
        "\n",
        "\n",
        "\n",
        "import numpy as np\n",
        "n_input = 101 \n",
        "n_class =2 \n",
        "\n",
        "n_hidden = 100\n",
        "batch_size = 256\n",
        "total_epoch = 125\n",
        "learning_rate = 0.0005777777777777 \n",
        "criterion = nn.CrossEntropyLoss()\n",
        "model = Bi_RNN_Model()\n",
        "optimizer = optim.Adam(model.parameters(), lr=learning_rate)\n",
        "for epoch in range(total_epoch):\n",
        "    train_loss = 0\n",
        "    for ind in range(0,train_pad_encoded.shape[0],batch_size):\n",
        "        input_batch = train_pad_encoded[ind:min(ind+batch_size, train_pad_encoded.shape[0])]\n",
        "        target_batch = label_train_encoded[ind:min(ind+batch_size,  train_pad_encoded.shape[0])]\n",
        "        input_batch_torch = torch.from_numpy(input_batch).float().to(device)\n",
        "        target_batch_torch = torch.from_numpy(target_batch).view(-1).to(device)\n",
        "\n",
        "\n",
        "        model.train()\n",
        "        optimizer.zero_grad()\n",
        "        outputs = model(input_batch_torch) \n",
        "        loss = criterion(outputs, target_batch_torch)\n",
        "        loss.backward()\n",
        "        optimizer.step()\n",
        "        \n",
        "        train_loss += loss.item()\n",
        "\n",
        "    print('Epoch: %d, train loss: %.5f'%(epoch + 1, train_loss))\n",
        "\n",
        "print('Finished Training')\n",
        "\n",
        "## Prediction\n",
        "model.eval()\n",
        "outputs = model(torch.from_numpy(testing_pad_encoded).float().to(device)) \n",
        "predicted = torch.argmax(outputs, 1)\n",
        "\n",
        "# classification_report builds a text report showing the main classification metrics\n",
        "# The returned report includes the 'weighted avg f1' we want (refer to the sample output)\n",
        "from sklearn.metrics import classification_report\n",
        "a=classification_report(label_test_encoded, predicted.cpu().numpy(),digits=4,output_dict=True)\n",
        "f1_score.append(a[\"weighted avg\"]['f1-score'])\n",
        "learning.append(learning_rate)\n",
        "optimal_epoch.append(total_epoch) \n",
        "\n",
        "\n",
        "\n",
        "\n",
        "  \n",
        "  \n",
        "import numpy as np\n",
        "n_input = 101 \n",
        "n_class =2 \n",
        "\n",
        "n_hidden = 100\n",
        "batch_size = 256\n",
        "total_epoch = 150\n",
        "learning_rate = 0.0005777777777777 \n",
        "criterion = nn.CrossEntropyLoss()\n",
        "model = Bi_RNN_Model()\n",
        "optimizer = optim.Adam(model.parameters(), lr=learning_rate)\n",
        "for epoch in range(total_epoch):\n",
        "    train_loss = 0\n",
        "    for ind in range(0,train_pad_encoded.shape[0],batch_size):\n",
        "        input_batch = train_pad_encoded[ind:min(ind+batch_size, train_pad_encoded.shape[0])]\n",
        "        target_batch = label_train_encoded[ind:min(ind+batch_size,  train_pad_encoded.shape[0])]\n",
        "        input_batch_torch = torch.from_numpy(input_batch).float().to(device)\n",
        "        target_batch_torch = torch.from_numpy(target_batch).view(-1).to(device)\n",
        "\n",
        "\n",
        "        model.train()\n",
        "        optimizer.zero_grad()\n",
        "        outputs = model(input_batch_torch) \n",
        "        loss = criterion(outputs, target_batch_torch)\n",
        "        loss.backward()\n",
        "        optimizer.step()\n",
        "        \n",
        "        train_loss += loss.item()\n",
        "\n",
        "    print('Epoch: %d, train loss: %.5f'%(epoch + 1, train_loss))\n",
        "\n",
        "print('Finished Training')\n",
        "\n",
        "## Prediction\n",
        "model.eval()\n",
        "outputs = model(torch.from_numpy(testing_pad_encoded).float().to(device)) \n",
        "predicted = torch.argmax(outputs, 1)\n",
        "\n",
        "# classification_report builds a text report showing the main classification metrics\n",
        "# The returned report includes the 'weighted avg f1' we want (refer to the sample output)\n",
        "from sklearn.metrics import classification_report\n",
        "a=classification_report(label_test_encoded, predicted.cpu().numpy(),digits=4,output_dict=True)\n",
        "f1_score.append(a[\"weighted avg\"]['f1-score'])\n",
        "learning.append(learning_rate)\n",
        "optimal_epoch.append(total_epoch) \n",
        "\n",
        "\n",
        "\n",
        "\n",
        "  \n",
        "   \n",
        "  \n",
        "  \n",
        " \n",
        " import numpy as np\n",
        "n_input = 101 \n",
        "n_class =2 \n",
        "\n",
        "n_hidden = 100\n",
        "batch_size = 256\n",
        "total_epoch = 50\n",
        "learning_rate = 0.00001\n",
        "criterion = nn.CrossEntropyLoss()\n",
        "model = Bi_RNN_Model()\n",
        "optimizer = optim.Adam(model.parameters(), lr=learning_rate)\n",
        "for epoch in range(total_epoch):\n",
        "    train_loss = 0\n",
        "    for ind in range(0,train_pad_encoded.shape[0],batch_size):\n",
        "        input_batch = train_pad_encoded[ind:min(ind+batch_size, train_pad_encoded.shape[0])]\n",
        "        target_batch = label_train_encoded[ind:min(ind+batch_size,  train_pad_encoded.shape[0])]\n",
        "        input_batch_torch = torch.from_numpy(input_batch).float().to(device)\n",
        "        target_batch_torch = torch.from_numpy(target_batch).view(-1).to(device)\n",
        "\n",
        "\n",
        "        model.train()\n",
        "        optimizer.zero_grad()\n",
        "        outputs = model(input_batch_torch) \n",
        "        loss = criterion(outputs, target_batch_torch)\n",
        "        loss.backward()\n",
        "        optimizer.step()\n",
        "        \n",
        "        train_loss += loss.item()\n",
        "\n",
        "    print('Epoch: %d, train loss: %.5f'%(epoch + 1, train_loss))\n",
        "\n",
        "print('Finished Training')\n",
        "\n",
        "## Prediction\n",
        "model.eval()\n",
        "outputs = model(torch.from_numpy(testing_pad_encoded).float().to(device)) \n",
        "predicted = torch.argmax(outputs, 1)\n",
        "\n",
        "# classification_report builds a text report showing the main classification metrics\n",
        "# The returned report includes the 'weighted avg f1' we want (refer to the sample output)\n",
        "from sklearn.metrics import classification_report\n",
        "a=classification_report(label_test_encoded, predicted.cpu().numpy(),digits=4,output_dict=True)\n",
        "f1_score.append(a[\"weighted avg\"]['f1-score'])\n",
        "learning.append(learning_rate)\n",
        "optimal_epoch.append(total_epoch) \n",
        "\n",
        "  \n",
        "\n",
        "\n",
        "\n",
        "\n",
        "\n",
        "\n",
        "import numpy as np\n",
        "n_input = 101 \n",
        "n_class =2 \n",
        "\n",
        "n_hidden = 100\n",
        "batch_size = 256\n",
        "total_epoch = 25\n",
        "learning_rate = 0.00001\n",
        "criterion = nn.CrossEntropyLoss()\n",
        "model = Bi_RNN_Model()\n",
        "optimizer = optim.Adam(model.parameters(), lr=learning_rate)\n",
        "for epoch in range(total_epoch):\n",
        "    train_loss = 0\n",
        "    for ind in range(0,train_pad_encoded.shape[0],batch_size):\n",
        "        input_batch = train_pad_encoded[ind:min(ind+batch_size, train_pad_encoded.shape[0])]\n",
        "        target_batch = label_train_encoded[ind:min(ind+batch_size,  train_pad_encoded.shape[0])]\n",
        "        input_batch_torch = torch.from_numpy(input_batch).float().to(device)\n",
        "        target_batch_torch = torch.from_numpy(target_batch).view(-1).to(device)\n",
        "\n",
        "\n",
        "        model.train()\n",
        "        optimizer.zero_grad()\n",
        "        outputs = model(input_batch_torch) \n",
        "        loss = criterion(outputs, target_batch_torch)\n",
        "        loss.backward()\n",
        "        optimizer.step()\n",
        "        \n",
        "        train_loss += loss.item()\n",
        "\n",
        "    print('Epoch: %d, train loss: %.5f'%(epoch + 1, train_loss))\n",
        "\n",
        "print('Finished Training')\n",
        "\n",
        "## Prediction\n",
        "model.eval()\n",
        "outputs = model(torch.from_numpy(testing_pad_encoded).float().to(device)) \n",
        "predicted = torch.argmax(outputs, 1)\n",
        "\n",
        "# classification_report builds a text report showing the main classification metrics\n",
        "# The returned report includes the 'weighted avg f1' we want (refer to the sample output)\n",
        "from sklearn.metrics import classification_report\n",
        "a=classification_report(label_test_encoded, predicted.cpu().numpy(),digits=4,output_dict=True)\n",
        "f1_score.append(a[\"weighted avg\"]['f1-score'])\n",
        "learning.append(learning_rate)\n",
        "optimal_epoch.append(total_epoch) \n",
        "\n",
        "  \n",
        "\n",
        "\n",
        "\n",
        "import numpy as np\n",
        "n_input = 101 \n",
        "n_class =2 \n",
        "\n",
        "n_hidden = 100\n",
        "batch_size = 256\n",
        "total_epoch = 125\n",
        "learning_rate = 0.00001\n",
        "criterion = nn.CrossEntropyLoss()\n",
        "model = Bi_RNN_Model()\n",
        "optimizer = optim.Adam(model.parameters(), lr=learning_rate)\n",
        "for epoch in range(total_epoch):\n",
        "    train_loss = 0\n",
        "    for ind in range(0,train_pad_encoded.shape[0],batch_size):\n",
        "        input_batch = train_pad_encoded[ind:min(ind+batch_size, train_pad_encoded.shape[0])]\n",
        "        target_batch = label_train_encoded[ind:min(ind+batch_size,  train_pad_encoded.shape[0])]\n",
        "        input_batch_torch = torch.from_numpy(input_batch).float().to(device)\n",
        "        target_batch_torch = torch.from_numpy(target_batch).view(-1).to(device)\n",
        "\n",
        "\n",
        "        model.train()\n",
        "        optimizer.zero_grad()\n",
        "        outputs = model(input_batch_torch) \n",
        "        loss = criterion(outputs, target_batch_torch)\n",
        "        loss.backward()\n",
        "        optimizer.step()\n",
        "        \n",
        "        train_loss += loss.item()\n",
        "\n",
        "    print('Epoch: %d, train loss: %.5f'%(epoch + 1, train_loss))\n",
        "\n",
        "print('Finished Training')\n",
        "\n",
        "## Prediction\n",
        "model.eval()\n",
        "outputs = model(torch.from_numpy(testing_pad_encoded).float().to(device)) \n",
        "predicted = torch.argmax(outputs, 1)\n",
        "\n",
        "# classification_report builds a text report showing the main classification metrics\n",
        "# The returned report includes the 'weighted avg f1' we want (refer to the sample output)\n",
        "from sklearn.metrics import classification_report\n",
        "a=classification_report(label_test_encoded, predicted.cpu().numpy(),digits=4,output_dict=True)\n",
        "f1_score.append(a[\"weighted avg\"]['f1-score'])\n",
        "learning.append(learning_rate)\n",
        "optimal_epoch.append(total_epoch) \n",
        "\n",
        "\n",
        "\n",
        "\n",
        "  \n",
        "  \n",
        "import numpy as np\n",
        "n_input = 101 \n",
        "n_class =2 \n",
        "\n",
        "n_hidden = 100\n",
        "batch_size = 256\n",
        "total_epoch = 150\n",
        "learning_rate = 0.00001\n",
        "criterion = nn.CrossEntropyLoss()\n",
        "model = Bi_RNN_Model()\n",
        "optimizer = optim.Adam(model.parameters(), lr=learning_rate)\n",
        "for epoch in range(total_epoch):\n",
        "    train_loss = 0\n",
        "    for ind in range(0,train_pad_encoded.shape[0],batch_size):\n",
        "        input_batch = train_pad_encoded[ind:min(ind+batch_size, train_pad_encoded.shape[0])]\n",
        "        target_batch = label_train_encoded[ind:min(ind+batch_size,  train_pad_encoded.shape[0])]\n",
        "        input_batch_torch = torch.from_numpy(input_batch).float().to(device)\n",
        "        target_batch_torch = torch.from_numpy(target_batch).view(-1).to(device)\n",
        "\n",
        "\n",
        "        model.train()\n",
        "        optimizer.zero_grad()\n",
        "        outputs = model(input_batch_torch) \n",
        "        loss = criterion(outputs, target_batch_torch)\n",
        "        loss.backward()\n",
        "        optimizer.step()\n",
        "        \n",
        "        train_loss += loss.item()\n",
        "\n",
        "    print('Epoch: %d, train loss: %.5f'%(epoch + 1, train_loss))\n",
        "\n",
        "print('Finished Training')\n",
        "\n",
        "## Prediction\n",
        "model.eval()\n",
        "outputs = model(torch.from_numpy(testing_pad_encoded).float().to(device)) \n",
        "predicted = torch.argmax(outputs, 1)\n",
        "\n",
        "# classification_report builds a text report showing the main classification metrics\n",
        "# The returned report includes the 'weighted avg f1' we want (refer to the sample output)\n",
        "from sklearn.metrics import classification_report\n",
        "a=classification_report(label_test_encoded, predicted.cpu().numpy(),digits=4,output_dict=True)\n",
        "f1_score.append(a[\"weighted avg\"]['f1-score'])\n",
        "learning.append(learning_rate)\n",
        "optimal_epoch.append(total_epoch) \n",
        " \n",
        " \n",
        " \n",
        " \n",
        "  \n",
        "  \n",
        " \n",
        "import numpy as np\n",
        "n_input = 101 \n",
        "n_class =2 \n",
        "\n",
        "n_hidden = 100\n",
        "batch_size = 256\n",
        "total_epoch = 50\n",
        "learning_rate = 0.0001\n",
        "criterion = nn.CrossEntropyLoss()\n",
        "model = Bi_RNN_Model()\n",
        "optimizer = optim.Adam(model.parameters(), lr=learning_rate)\n",
        "for epoch in range(total_epoch):\n",
        "    train_loss = 0\n",
        "    for ind in range(0,train_pad_encoded.shape[0],batch_size):\n",
        "        input_batch = train_pad_encoded[ind:min(ind+batch_size, train_pad_encoded.shape[0])]\n",
        "        target_batch = label_train_encoded[ind:min(ind+batch_size,  train_pad_encoded.shape[0])]\n",
        "        input_batch_torch = torch.from_numpy(input_batch).float().to(device)\n",
        "        target_batch_torch = torch.from_numpy(target_batch).view(-1).to(device)\n",
        "\n",
        "\n",
        "        model.train()\n",
        "        optimizer.zero_grad()\n",
        "        outputs = model(input_batch_torch) \n",
        "        loss = criterion(outputs, target_batch_torch)\n",
        "        loss.backward()\n",
        "        optimizer.step()\n",
        "        \n",
        "        train_loss += loss.item()\n",
        "\n",
        "    print('Epoch: %d, train loss: %.5f'%(epoch + 1, train_loss))\n",
        "\n",
        "print('Finished Training')\n",
        "\n",
        "## Prediction\n",
        "model.eval()\n",
        "outputs = model(torch.from_numpy(testing_pad_encoded).float().to(device)) \n",
        "predicted = torch.argmax(outputs, 1)\n",
        "\n",
        "# classification_report builds a text report showing the main classification metrics\n",
        "# The returned report includes the 'weighted avg f1' we want (refer to the sample output)\n",
        "from sklearn.metrics import classification_report\n",
        "a=classification_report(label_test_encoded, predicted.cpu().numpy(),digits=4,output_dict=True)\n",
        "f1_score.append(a[\"weighted avg\"]['f1-score'])\n",
        "learning.append(learning_rate)\n",
        "optimal_epoch.append(total_epoch) \n",
        "\n",
        "  \n",
        "\n",
        "\n",
        "\n",
        "\n",
        "\n",
        "\n",
        "import numpy as np\n",
        "n_input = 101 \n",
        "n_class =2 \n",
        "\n",
        "n_hidden = 100\n",
        "batch_size = 256\n",
        "total_epoch = 25\n",
        "learning_rate = 0.0001\n",
        "criterion = nn.CrossEntropyLoss()\n",
        "model = Bi_RNN_Model()\n",
        "optimizer = optim.Adam(model.parameters(), lr=learning_rate)\n",
        "for epoch in range(total_epoch):\n",
        "    train_loss = 0\n",
        "    for ind in range(0,train_pad_encoded.shape[0],batch_size):\n",
        "        input_batch = train_pad_encoded[ind:min(ind+batch_size, train_pad_encoded.shape[0])]\n",
        "        target_batch = label_train_encoded[ind:min(ind+batch_size,  train_pad_encoded.shape[0])]\n",
        "        input_batch_torch = torch.from_numpy(input_batch).float().to(device)\n",
        "        target_batch_torch = torch.from_numpy(target_batch).view(-1).to(device)\n",
        "\n",
        "\n",
        "        model.train()\n",
        "        optimizer.zero_grad()\n",
        "        outputs = model(input_batch_torch) \n",
        "        loss = criterion(outputs, target_batch_torch)\n",
        "        loss.backward()\n",
        "        optimizer.step()\n",
        "        \n",
        "        train_loss += loss.item()\n",
        "\n",
        "    print('Epoch: %d, train loss: %.5f'%(epoch + 1, train_loss))\n",
        "\n",
        "print('Finished Training')\n",
        "\n",
        "## Prediction\n",
        "model.eval()\n",
        "outputs = model(torch.from_numpy(testing_pad_encoded).float().to(device)) \n",
        "predicted = torch.argmax(outputs, 1)\n",
        "\n",
        "# classification_report builds a text report showing the main classification metrics\n",
        "# The returned report includes the 'weighted avg f1' we want (refer to the sample output)\n",
        "from sklearn.metrics import classification_report\n",
        "a=classification_report(label_test_encoded, predicted.cpu().numpy(),digits=4,output_dict=True)\n",
        "f1_score.append(a[\"weighted avg\"]['f1-score'])\n",
        "learning.append(learning_rate)\n",
        "optimal_epoch.append(total_epoch) \n",
        "\n",
        "  \n",
        "\n",
        "\n",
        "\n",
        "import numpy as np\n",
        "n_input = 101 \n",
        "n_class =2 \n",
        "\n",
        "n_hidden = 100\n",
        "batch_size = 256\n",
        "total_epoch = 125\n",
        "learning_rate = 0.0001\n",
        "criterion = nn.CrossEntropyLoss()\n",
        "model = Bi_RNN_Model()\n",
        "optimizer = optim.Adam(model.parameters(), lr=learning_rate)\n",
        "for epoch in range(total_epoch):\n",
        "    train_loss = 0\n",
        "    for ind in range(0,train_pad_encoded.shape[0],batch_size):\n",
        "        input_batch = train_pad_encoded[ind:min(ind+batch_size, train_pad_encoded.shape[0])]\n",
        "        target_batch = label_train_encoded[ind:min(ind+batch_size,  train_pad_encoded.shape[0])]\n",
        "        input_batch_torch = torch.from_numpy(input_batch).float().to(device)\n",
        "        target_batch_torch = torch.from_numpy(target_batch).view(-1).to(device)\n",
        "\n",
        "\n",
        "        model.train()\n",
        "        optimizer.zero_grad()\n",
        "        outputs = model(input_batch_torch) \n",
        "        loss = criterion(outputs, target_batch_torch)\n",
        "        loss.backward()\n",
        "        optimizer.step()\n",
        "        \n",
        "        train_loss += loss.item()\n",
        "\n",
        "    print('Epoch: %d, train loss: %.5f'%(epoch + 1, train_loss))\n",
        "\n",
        "print('Finished Training')\n",
        "\n",
        "## Prediction\n",
        "model.eval()\n",
        "outputs = model(torch.from_numpy(testing_pad_encoded).float().to(device)) \n",
        "predicted = torch.argmax(outputs, 1)\n",
        "\n",
        "# classification_report builds a text report showing the main classification metrics\n",
        "# The returned report includes the 'weighted avg f1' we want (refer to the sample output)\n",
        "from sklearn.metrics import classification_report\n",
        "a=classification_report(label_test_encoded, predicted.cpu().numpy(),digits=4,output_dict=True)\n",
        "f1_score.append(a[\"weighted avg\"]['f1-score'])\n",
        "learning.append(learning_rate)\n",
        "optimal_epoch.append(total_epoch) \n",
        "\n",
        "\n",
        "\n",
        "\n",
        "  \n",
        "  \n",
        "import numpy as np\n",
        "n_input = 101 \n",
        "n_class =2 \n",
        "\n",
        "n_hidden = 100\n",
        "batch_size = 256\n",
        "total_epoch = 150\n",
        "learning_rate = 0.0001\n",
        "criterion = nn.CrossEntropyLoss()\n",
        "model = Bi_RNN_Model()\n",
        "optimizer = optim.Adam(model.parameters(), lr=learning_rate)\n",
        "for epoch in range(total_epoch):\n",
        "    train_loss = 0\n",
        "    for ind in range(0,train_pad_encoded.shape[0],batch_size):\n",
        "        input_batch = train_pad_encoded[ind:min(ind+batch_size, train_pad_encoded.shape[0])]\n",
        "        target_batch = label_train_encoded[ind:min(ind+batch_size,  train_pad_encoded.shape[0])]\n",
        "        input_batch_torch = torch.from_numpy(input_batch).float().to(device)\n",
        "        target_batch_torch = torch.from_numpy(target_batch).view(-1).to(device)\n",
        "\n",
        "\n",
        "        model.train()\n",
        "        optimizer.zero_grad()\n",
        "        outputs = model(input_batch_torch) \n",
        "        loss = criterion(outputs, target_batch_torch)\n",
        "        loss.backward()\n",
        "        optimizer.step()\n",
        "        \n",
        "        train_loss += loss.item()\n",
        "\n",
        "    print('Epoch: %d, train loss: %.5f'%(epoch + 1, train_loss))\n",
        "\n",
        "print('Finished Training')\n",
        "\n",
        "## Prediction\n",
        "model.eval()\n",
        "outputs = model(torch.from_numpy(testing_pad_encoded).float().to(device)) \n",
        "predicted = torch.argmax(outputs, 1)\n",
        "\n",
        "# classification_report builds a text report showing the main classification metrics\n",
        "# The returned report includes the 'weighted avg f1' we want (refer to the sample output)\n",
        "from sklearn.metrics import classification_report\n",
        "a=classification_report(label_test_encoded, predicted.cpu().numpy(),digits=4,output_dict=True)\n",
        "f1_score.append(a[\"weighted avg\"]['f1-score'])\n",
        "learning.append(learning_rate)\n",
        "optimal_epoch.append(total_epoch) \n",
        " \n",
        " \n",
        " dic={}\n",
        "dic[\"optimal_epoch\"]=optimal_epoch\n",
        "dic[\"f1_score\"]=f1_score\n",
        "dic[\"learning_rate\"]=learning \n",
        "Test_hy=pd.DataFrame(dic)\n",
        " \n",
        "\n",
        " \n",
        " \n",
        " \n",
        " \n",
        " \n",
        " \n",
        "plt.plot( Test_hy[(Test_hy[\"learning_rate\"] == 0.0005777777777777 )][\"optimal_epoch\"],  Test_hy[(Test_hy[\"learning_rate\"] == 0.0005777777777777 )][\"f1_score\"], label = \"learning_rate at{}\".format( 0.0005777777777777 ))\n",
        "plt.plot( Test_hy[(Test_hy[\"learning_rate\"] == 1e-05 )][\"optimal_epoch\"],  Test_hy[(Test_hy[\"learning_rate\"] ==1e-05 )][\"f1_score\"], label =\"learning_rate at{}\".format( 1e-05 ))\n",
        "plt.plot( Test_hy[(Test_hy[\"learning_rate\"] == 0.0001 )][\"optimal_epoch\"],  Test_hy[(Test_hy[\"learning_rate\"] ==0.0001 )][\"f1_score\"], label =\"learning_rate at{}\".format( 0.0001 ))\n",
        "plt.legend()\n",
        "\n",
        "\n",
        "plt.xlabel(\"Number of epoch\")\n",
        "plt.ylabel(\"Average Accuracy Score\")\n"
      ],
      "execution_count": null,
      "outputs": [
        {
          "output_type": "execute_result",
          "data": {
            "text/plain": [
              "Text(0, 0.5, 'Average Accuracy Score')"
            ]
          },
          "metadata": {
            "tags": []
          },
          "execution_count": 170
        },
        {
          "output_type": "display_data",
          "data": {
            "image/png": "[encoded data removed]",
            "text/plain": [
              "<Figure size 432x288 with 1 Axes>"
            ]
          },
          "metadata": {
            "tags": [],
            "needs_background": "light"
          }
        }
      ]
    },
    {
      "cell_type": "markdown",
      "metadata": {
        "id": "Bc118PbJhbeL"
      },
      "source": [
        "From the graph above, we can see that for different learning rates, when they are smaller than 0.0001, the increase the number of epoch would lead to the increase in the accuracy score. However, it does not hold when the number of epoch reach the certain amount of threshhold. This is because that beyond this treshhold amount, the model begins to be overfiting, which would lower the accuracy score. As for the relatively large learning rate such as 0.0001, the model immediately shows the issue of overfitting at the begining as we increase the number of epoch. "
      ]
    },
    {
      "cell_type": "markdown",
      "metadata": {
        "id": "sfv8rWTKPzeb"
      },
      "source": [
        "## Object Oriented Programming codes here"
      ]
    },
    {
      "cell_type": "markdown",
      "metadata": {
        "id": "TS23AjBRSZaX"
      },
      "source": [
        "*You can use multiple code snippets. Just add more if needed* "
      ]
    },
    {
      "cell_type": "code",
      "metadata": {
        "id": "1hVmx4E52dXS"
      },
      "source": [
        "# If you used OOP style, use this section"
      ],
      "execution_count": null,
      "outputs": []
    }
  ]
}