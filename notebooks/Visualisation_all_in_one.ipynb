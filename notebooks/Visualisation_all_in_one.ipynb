{
 "cells": [
  {
   "cell_type": "markdown",
   "metadata": {},
   "source": [
    "---"
   ]
  },
  {
   "cell_type": "markdown",
   "metadata": {},
   "source": [
    "# Visualisation based on CSPP portifolio as a whole"
   ]
  },
  {
   "cell_type": "markdown",
   "metadata": {},
   "source": [
    "## Visualisation 1: Number of (non-)green bonds in CSPP portifolio by time"
   ]
  },
  {
   "cell_type": "markdown",
   "metadata": {},
   "source": [
    "### 1. Preparation and Import Data"
   ]
  },
  {
   "cell_type": "markdown",
   "metadata": {},
   "source": [
    "**Finally `ggplot`!**\n",
    "- Python has a module `plotnine` that supports `ggplot` kernel!    \n",
    "    `%pip install plotnine`"
   ]
  },
  {
   "cell_type": "markdown",
   "metadata": {},
   "source": [
    "**1.1 Load modules and dataset**"
   ]
  },
  {
   "cell_type": "code",
   "execution_count": null,
   "metadata": {},
   "outputs": [],
   "source": [
    "import pandas as pd\n",
    "import numpy as np\n",
    "import matplotlib.pyplot as plt\n",
    "import seaborn as sns\n",
    "\n",
    "import warnings\n",
    "warnings.filterwarnings('ignore')\n",
    "\n",
    "from plotnine import *\n",
    "from mizani.breaks import date_breaks\n",
    "from mizani.formatters import date_format\n",
    "\n",
    "%matplotlib inline"
   ]
  },
  {
   "cell_type": "code",
   "execution_count": null,
   "metadata": {},
   "outputs": [],
   "source": [
    "data_dir = '/Users/jingpuchen/Desktop/KU Leuven/Semester4/Modern Data Analytics/project_europa-main/data/final/'\n",
    "file1 = '7_CSPPholdings_201706_2021.csv'\n",
    "file2 = '7_info_match_round3_complete.csv'"
   ]
  },
  {
   "cell_type": "markdown",
   "metadata": {},
   "source": [
    "- There are two dateframes, one is on company level, one is based on purchasement records."
   ]
  },
  {
   "cell_type": "code",
   "execution_count": null,
   "metadata": {},
   "outputs": [],
   "source": [
    "df = pd.read_csv(data_dir+file2, sep=',')\n",
    "essential_variables = ['Name_1','OrgName_1','Name_2','OrgName_2','Primary Industry',\n",
    "                       'Primary Bussiness','Primary Economic',\n",
    "                       'Domiciled','Incorporated','TRBC code','green']\n",
    "df_company = df[essential_variables]\n",
    "df_purchase = pd.read_csv(data_dir+file1, sep=',')"
   ]
  },
  {
   "cell_type": "markdown",
   "metadata": {},
   "source": [
    "### 2. Data wrangling"
   ]
  },
  {
   "cell_type": "markdown",
   "metadata": {},
   "source": [
    "No wonder, `file_date` should be converted to datetime type"
   ]
  },
  {
   "cell_type": "code",
   "execution_count": null,
   "metadata": {},
   "outputs": [],
   "source": [
    "df_purchase['file_date'] = pd.to_datetime(df_purchase['file_date'], format='%Y%m%d')"
   ]
  },
  {
   "cell_type": "markdown",
   "metadata": {},
   "source": [
    "`count_data <- data %>% select(file_date, green) %>%\n",
    "  group_by(file_date) %>% summarise(\n",
    "    n_total = n(),\n",
    "    n_green = sum(green ==1),\n",
    "    n_nogreen = n_total - n_green\n",
    "  )`"
   ]
  },
  {
   "cell_type": "markdown",
   "metadata": {},
   "source": [
    "The following codes do the exact same job as above **R** commands, basically count the number of green purchasement and none green ones by each filing date. Even though filing date is not the same date when EU originally bought the bonds, it is the only information that we have."
   ]
  },
  {
   "cell_type": "code",
   "execution_count": null,
   "metadata": {},
   "outputs": [],
   "source": [
    "count_green_df = df_purchase.filter(['file_date', 'green']).groupby('file_date').agg(['count','mean'])\n",
    "count_green_df.columns = count_green_df.columns.get_level_values(1)\n",
    "count_green_df = count_green_df.assign(n_green=lambda x: x['count']*x['mean']).copy()\n",
    "count_green_df['n_green'] = count_green_df['n_green'].astype(int)\n",
    "count_green_df = count_green_df.assign(n_nogreen=lambda x: x['count']-x['n_green']).copy()"
   ]
  },
  {
   "cell_type": "code",
   "execution_count": null,
   "metadata": {},
   "outputs": [],
   "source": [
    "count_green_df_small = count_green_df[['n_green','n_nogreen']]\n",
    "count_green_df_small.reset_index(level=0, inplace=True)"
   ]
  },
  {
   "cell_type": "markdown",
   "metadata": {},
   "source": [
    "`count_gather <- count_data %>% select(c(file_date, n_nogreen, n_green)) %>%\n",
    "  gather(key = \"variable\", value = \"value\", -file_date)`"
   ]
  },
  {
   "cell_type": "markdown",
   "metadata": {},
   "source": [
    "The following codes do the exact same job as above **R** commands, basically compress redundant columns into key-value pairs. This should be done because in the stage of visualising time series plot, we would like to have two distinct lines accoring to the company is green or not. "
   ]
  },
  {
   "cell_type": "code",
   "execution_count": null,
   "metadata": {},
   "outputs": [],
   "source": [
    "count_green_df_small_melt = pd.melt(count_green_df_small, id_vars=\"file_date\")"
   ]
  },
  {
   "cell_type": "markdown",
   "metadata": {},
   "source": [
    "`\n",
    "theme_set(theme_minimal())\n",
    "ggplot(count_gather, aes(x = file_date, y = value)) + \n",
    "  geom_area(aes(color = variable, fill = variable), \n",
    "            alpha = 0.3, position = 'stack', show.legend=TRUE) +\n",
    "  scale_color_manual(values = c(\"forestgreen\",\"orangered3\")) +\n",
    "  scale_fill_manual(values = c(\"forestgreen\",\"orangered3\")) +\n",
    "  scale_x_date(limit=c(as.Date(\"2017-06-23\"),as.Date(\"2021-04-16\")),\n",
    "               date_breaks = \"3 month\",date_labels = \"%m/%Y\") +\n",
    "  scale_y_continuous(limits=c(400,1800),breaks=seq(400,1800,200)) +\n",
    "  labs(x=\"\",y=\"\",title='CSPP_Holdings purchasement total and green') +\n",
    "  theme(axis.text.x = element_text(angle=60, hjust=1),\n",
    "        legend.title = element_text(size=10), #change legend title font size\n",
    "        legend.text = element_text(size=10),  #change legend text font size\n",
    "        legend.position=\"bottom\", legend.box = \"horizontal\",\n",
    "        legend.background = element_rect(fill=\"white\",\n",
    "                                         size=0.5, linetype=\"solid\",\n",
    "                                         colour =\"black\"))\n",
    "`"
   ]
  },
  {
   "cell_type": "markdown",
   "metadata": {},
   "source": [
    "`plotnine` enables us to code as if we were abusing ggplot system in Python. Nevertheless, all `.` should be replaced with `-`, while another important precaution is that variable name is surrounded by `'` when specifying them in python. "
   ]
  },
  {
   "cell_type": "markdown",
   "metadata": {},
   "source": [
    "### 3. PLOT"
   ]
  },
  {
   "cell_type": "code",
   "execution_count": null,
   "metadata": {},
   "outputs": [],
   "source": [
    "theme_set(theme_minimal())\n",
    "ggplot(count_green_df_small_melt, aes(x = 'file_date', y = 'value')) +\\\n",
    "  geom_area(aes(color = 'variable', fill = 'variable'), \n",
    "            alpha = 0.3, position = 'stack') +\\\n",
    "  scale_color_manual(values = [\"forestgreen\",\"orangered\"]) +\\\n",
    "  scale_fill_manual(values = [\"forestgreen\",\"orangered\"]) +\\\n",
    "  scale_x_datetime(breaks=date_breaks('3 months'),labels=date_format('%m/%Y')) +\\\n",
    "  labs(x=\"\",y=\"\",title='CSPP_Holdings purchasement total and green') +\\\n",
    "  theme(axis_text_x=element_text(angle=60, hjust=0.7),\n",
    "        legend_title = element_text(size=10), #change legend title font size\n",
    "        legend_text = element_text(size=10),  #change legend text font size\n",
    "        legend_position=\"right\", legend_box = \"horizontal\",\n",
    "        legend_background = element_rect(fill=\"white\",\n",
    "                                         size=0.5, linetype=\"solid\",\n",
    "                                         colour =\"black\"))"
   ]
  },
  {
   "cell_type": "markdown",
   "metadata": {},
   "source": [
    "---"
   ]
  },
  {
   "cell_type": "markdown",
   "metadata": {},
   "source": [
    "## Visualisation 2: Ratio of green bonds over total in CSPP portifolio by time"
   ]
  },
  {
   "cell_type": "code",
   "execution_count": null,
   "metadata": {},
   "outputs": [],
   "source": [
    "count_green_df_index = count_green_df.reset_index(level=0, inplace=False).copy()"
   ]
  },
  {
   "cell_type": "markdown",
   "metadata": {},
   "source": [
    "### PLOT"
   ]
  },
  {
   "cell_type": "code",
   "execution_count": null,
   "metadata": {},
   "outputs": [],
   "source": [
    "theme_set(theme_minimal())\n",
    "ggplot(count_green_df_index, aes(x = 'file_date', y = 'mean')) +\\\n",
    "  geom_line(color='forestgreen',size=2) +\\\n",
    "  scale_y_continuous(limits=(0.45,0.50)) +\\\n",
    "  scale_x_datetime(breaks=date_breaks('3 months'),labels=date_format('%m/%Y')) +\\\n",
    "  labs(x=\"\",y=\"\",title='Proportion of Green Company Purchasement') +\\\n",
    "  theme(axis_text_x=element_text(angle=60, hjust=0.7))"
   ]
  },
  {
   "cell_type": "markdown",
   "metadata": {},
   "source": [
    "---"
   ]
  },
  {
   "cell_type": "markdown",
   "metadata": {},
   "source": [
    "# Visualisation based on new purchasement"
   ]
  },
  {
   "cell_type": "markdown",
   "metadata": {},
   "source": [
    "## Data Cleaning"
   ]
  },
  {
   "cell_type": "code",
   "execution_count": null,
   "metadata": {},
   "outputs": [],
   "source": [
    "import pandas as pd\n",
    "import datetime\n",
    "import matplotlib.pyplot as plt"
   ]
  },
  {
   "cell_type": "code",
   "execution_count": null,
   "metadata": {},
   "outputs": [],
   "source": [
    "df = pd.read_csv('7_CSPPholdings_201706_2021.csv')"
   ]
  },
  {
   "cell_type": "markdown",
   "metadata": {},
   "source": [
    "This is a function to extract date information and convert it to a datetime object:"
   ]
  },
  {
   "cell_type": "code",
   "execution_count": null,
   "metadata": {},
   "outputs": [],
   "source": [
    "def date(val):\n",
    "    year = int(str(val)[0:4])\n",
    "    month = int(str(val)[4:6])\n",
    "    day = int(str(val)[6:8])\n",
    "    date = datetime.datetime(year, month, day)\n",
    "    return date\n",
    "df['Date'] = df['file_date'].apply(date)"
   ]
  },
  {
   "cell_type": "markdown",
   "metadata": {},
   "source": [
    "In order to filter the dataset to keep only the first record for each bond (that of the date when it was purchased), the dataset is grouped by ISIN code (unique for each bond) and the data is filter to keep only the minimum date."
   ]
  },
  {
   "cell_type": "code",
   "execution_count": null,
   "metadata": {},
   "outputs": [],
   "source": [
    "grouped = df[['ISIN_CODE', 'Date']]\n",
    "grouped_df = grouped.groupby(by='ISIN_CODE').min().reset_index()\n",
    "data = df[\n",
    "    df[['ISIN_CODE','Date']].apply(tuple, axis = 1).isin(grouped_df[['ISIN_CODE', 'Date']].apply(tuple, axis = 1))\n",
    "]"
   ]
  },
  {
   "cell_type": "markdown",
   "metadata": {},
   "source": [
    "A column 'not_green' is created where 1 indicates the bond is related to a green economic sector and 0 otherwise."
   ]
  },
  {
   "cell_type": "code",
   "execution_count": null,
   "metadata": {
    "scrolled": true
   },
   "outputs": [],
   "source": [
    "dataset = data[['green', 'Date']]\n",
    "dataset['not_green'] = dataset.apply(lambda row: (row.green - 1)*(-1), axis=1)"
   ]
  },
  {
   "cell_type": "markdown",
   "metadata": {},
   "source": [
    "The sum of green and non-green bonds is computed for each date. Moreover, the first date from the dataset is removed since it includes bonds from previous periods (cumulative figures)."
   ]
  },
  {
   "cell_type": "code",
   "execution_count": null,
   "metadata": {
    "scrolled": true
   },
   "outputs": [],
   "source": [
    "green_counts_df = dataset.groupby('Date').sum().reset_index()\n",
    "green_counts_df = green_counts_df.drop(green_counts_df.index[0])\n",
    "green_counts_df = green_counts_df.reset_index().drop('index', axis = 1)"
   ]
  },
  {
   "cell_type": "markdown",
   "metadata": {},
   "source": [
    "## PLOTS"
   ]
  },
  {
   "cell_type": "markdown",
   "metadata": {},
   "source": [
    "### 1. Plot of green and non-green bond purchases (figures by end of week)"
   ]
  },
  {
   "cell_type": "code",
   "execution_count": null,
   "metadata": {
    "scrolled": true
   },
   "outputs": [],
   "source": [
    "plt.plot('Date', 'green', data = green_counts_df)\n",
    "plt.plot('Date', 'not_green', data = green_counts_df)\n",
    "plt.legend()"
   ]
  },
  {
   "cell_type": "markdown",
   "metadata": {},
   "source": [
    "Since the plot above is hard to read, the format of the date variable is transformed to only show year and month."
   ]
  },
  {
   "cell_type": "code",
   "execution_count": null,
   "metadata": {
    "scrolled": true
   },
   "outputs": [],
   "source": [
    "green_counts_df['Date'] = green_counts_df['Date'].dt.date.apply(lambda x: x.strftime('%Y-%m'))"
   ]
  },
  {
   "cell_type": "markdown",
   "metadata": {},
   "source": [
    "Now purchases figures are computed for each month within a year:"
   ]
  },
  {
   "cell_type": "code",
   "execution_count": null,
   "metadata": {},
   "outputs": [],
   "source": [
    "green_counts_df2 = green_counts_df.groupby('Date').sum().reset_index()"
   ]
  },
  {
   "cell_type": "markdown",
   "metadata": {},
   "source": [
    "### 2. Plot of green and non-green bond purchases (figures by month)"
   ]
  },
  {
   "cell_type": "code",
   "execution_count": null,
   "metadata": {
    "scrolled": true
   },
   "outputs": [],
   "source": [
    "plt.plot('Date', 'green', data = green_counts_df2)\n",
    "plt.plot('Date', 'not_green', data = green_counts_df2)\n",
    "plt.legend()"
   ]
  },
  {
   "cell_type": "markdown",
   "metadata": {},
   "source": [
    "The plot above illustrates the evolution of bond purchases better. Additionally, individual plots for each year will be shown."
   ]
  },
  {
   "cell_type": "code",
   "execution_count": null,
   "metadata": {},
   "outputs": [],
   "source": [
    "green_counts_df3 = green_counts_df2.copy()\n",
    "green_counts_df3['Year'] = green_counts_df3.apply(lambda row: int(row.Date[0:4]) , axis=1)"
   ]
  },
  {
   "cell_type": "markdown",
   "metadata": {},
   "source": [
    "Splitting the data into multiple datasets by year:"
   ]
  },
  {
   "cell_type": "code",
   "execution_count": null,
   "metadata": {
    "scrolled": true
   },
   "outputs": [],
   "source": [
    "counts_2017 = green_counts_df3[green_counts_df3['Year'] == 2017]\n",
    "counts_2018 = green_counts_df3[green_counts_df3['Year'] == 2018]\n",
    "counts_2019 = green_counts_df3[green_counts_df3['Year'] == 2019]\n",
    "counts_2020 = green_counts_df3[green_counts_df3['Year'] == 2020]\n",
    "counts_2021 = green_counts_df3[green_counts_df3['Year'] == 2021]"
   ]
  },
  {
   "cell_type": "markdown",
   "metadata": {},
   "source": [
    "### 3. Plot of green and non-green bond purchases in 2017 (monthly figures)"
   ]
  },
  {
   "cell_type": "code",
   "execution_count": null,
   "metadata": {},
   "outputs": [],
   "source": [
    "plt.plot('Date', 'green', data = counts_2017)\n",
    "plt.plot('Date', 'not_green', data = counts_2017)\n",
    "plt.legend()\n",
    "plt.title('Bond purchases in 2017')\n",
    "plt.xticks(rotation=90)\n",
    "plt.ylabel('Number of bonds acquired')\n",
    "plt.xlabel('Date')"
   ]
  },
  {
   "cell_type": "markdown",
   "metadata": {},
   "source": [
    "### 4. Plot of green and non-green bond purchases in 2018 (monthly figures)"
   ]
  },
  {
   "cell_type": "code",
   "execution_count": null,
   "metadata": {},
   "outputs": [],
   "source": [
    "plt.plot('Date', 'green', data = counts_2018)\n",
    "plt.plot('Date', 'not_green', data = counts_2018)\n",
    "plt.legend()\n",
    "plt.title('Bond purchases in 2018')\n",
    "plt.xticks(rotation=90)\n",
    "plt.ylabel('Number of bonds acquired')\n",
    "plt.xlabel('Date')"
   ]
  },
  {
   "cell_type": "markdown",
   "metadata": {},
   "source": [
    "### 5. Plot of green and non-green bond purchases in 2019 (monthly figures)"
   ]
  },
  {
   "cell_type": "code",
   "execution_count": null,
   "metadata": {},
   "outputs": [],
   "source": [
    "plt.plot('Date', 'green', data = counts_2019)\n",
    "plt.plot('Date', 'not_green', data = counts_2019)\n",
    "plt.legend()\n",
    "plt.title('Bond purchases in 2019')\n",
    "plt.xticks(rotation=90)\n",
    "plt.ylabel('Number of bonds acquired')\n",
    "plt.xlabel('Date')"
   ]
  },
  {
   "cell_type": "markdown",
   "metadata": {},
   "source": [
    "### 6. Plot of green and non-green bond purchases in 2020 (monthly figures)"
   ]
  },
  {
   "cell_type": "code",
   "execution_count": null,
   "metadata": {},
   "outputs": [],
   "source": [
    "plt.plot('Date', 'green', data = counts_2020)\n",
    "plt.plot('Date', 'not_green', data = counts_2020)\n",
    "plt.legend()\n",
    "plt.title('Bond purchases in 2020')\n",
    "plt.xticks(rotation=90)\n",
    "plt.ylabel('Number of bonds acquired')\n",
    "plt.xlabel('Date')"
   ]
  },
  {
   "cell_type": "markdown",
   "metadata": {},
   "source": [
    "#### Plot of green and non-green bond purchases in 2021 (monthly figures)"
   ]
  },
  {
   "cell_type": "code",
   "execution_count": null,
   "metadata": {},
   "outputs": [],
   "source": [
    "plt.plot('Date', 'green', data = counts_2021)\n",
    "plt.plot('Date', 'not_green', data = counts_2021)\n",
    "plt.legend()\n",
    "plt.title('Bond purchases in 2021')\n",
    "plt.xticks(rotation=90)\n",
    "plt.ylabel('Number of bonds acquired')\n",
    "plt.xlabel('Date')"
   ]
  },
  {
   "cell_type": "markdown",
   "metadata": {},
   "source": [
    "---"
   ]
  },
  {
   "cell_type": "markdown",
   "metadata": {},
   "source": [
    "# Visualisation: Word Cloud"
   ]
  },
  {
   "cell_type": "markdown",
   "metadata": {},
   "source": [
    "## **1 Load modules and dataset**"
   ]
  },
  {
   "cell_type": "code",
   "execution_count": null,
   "metadata": {
    "ExecuteTime": {
     "end_time": "2021-05-29T18:54:11.065958Z",
     "start_time": "2021-05-29T18:54:08.745493Z"
    }
   },
   "outputs": [],
   "source": [
    "# general management\n",
    "import os, glob, chardet, json  \n",
    "from itertools import compress\n",
    "from wordcloud import WordCloud, ImageColorGenerator, STOPWORDS\n",
    "from PIL import Image\n",
    "\n",
    "# manage data\n",
    "import pandas as pd\n",
    "import numpy as np\n",
    "import matplotlib.pyplot as plt\n",
    "\n",
    "# nlp libraries\n",
    "import re, nltk\n",
    "nltk.download('stopwords') # for removing stopwords\n",
    "from nltk.corpus import stopwords \n",
    "from nltk.stem.porter import PorterStemmer # for stemming\n",
    "\n",
    "# pre-processing data\n",
    "from sklearn.feature_extraction.text import CountVectorizer\n",
    "from sklearn.model_selection import train_test_split\n"
   ]
  },
  {
   "cell_type": "code",
   "execution_count": null,
   "metadata": {
    "ExecuteTime": {
     "end_time": "2021-05-29T18:54:15.353822Z",
     "start_time": "2021-05-29T18:54:15.317729Z"
    },
    "scrolled": false
   },
   "outputs": [],
   "source": [
    "path ='C:/Users/alawa/Desktop/Master Statistics/2nd year/Q2/Modern data analysis/project1'\n",
    "full_path =  path + '/7_info_match_round3_complete.csv'    \n",
    "df = pd.read_csv(full_path, sep=',')"
   ]
  },
  {
   "cell_type": "markdown",
   "metadata": {},
   "source": [
    "outlook the variables of interest"
   ]
  },
  {
   "cell_type": "code",
   "execution_count": null,
   "metadata": {
    "ExecuteTime": {
     "end_time": "2021-05-29T18:54:24.608466Z",
     "start_time": "2021-05-29T18:54:24.600487Z"
    }
   },
   "outputs": [],
   "source": [
    "print(df['Primary Industry description'])"
   ]
  },
  {
   "cell_type": "markdown",
   "metadata": {},
   "source": [
    "replacing NaN's with empty string"
   ]
  },
  {
   "cell_type": "code",
   "execution_count": null,
   "metadata": {
    "ExecuteTime": {
     "end_time": "2021-05-29T18:54:29.383638Z",
     "start_time": "2021-05-29T18:54:29.375947Z"
    }
   },
   "outputs": [],
   "source": [
    "df['Primary Industry description'] = df['Primary Industry description'].fillna(' ')"
   ]
  },
  {
   "cell_type": "code",
   "execution_count": null,
   "metadata": {
    "ExecuteTime": {
     "end_time": "2021-05-29T18:54:30.442743Z",
     "start_time": "2021-05-29T18:54:30.422349Z"
    }
   },
   "outputs": [],
   "source": [
    "print(df['Primary Industry description'])"
   ]
  },
  {
   "cell_type": "markdown",
   "metadata": {},
   "source": [
    "## 2. Text cleaning"
   ]
  },
  {
   "cell_type": "markdown",
   "metadata": {},
   "source": [
    "### 2.1 creating corpus"
   ]
  },
  {
   "cell_type": "markdown",
   "metadata": {},
   "source": [
    "standardizing data"
   ]
  },
  {
   "cell_type": "code",
   "execution_count": null,
   "metadata": {
    "ExecuteTime": {
     "end_time": "2021-05-29T18:54:37.280976Z",
     "start_time": "2021-05-29T18:54:36.668757Z"
    }
   },
   "outputs": [],
   "source": [
    "corpus = []\n",
    "\n",
    "for i in range(df.shape[0]):\n",
    "    \n",
    "    # preliminary\n",
    "    IndDesc = re.sub('[^a-zA-Z]', ' ', df['Primary Industry description'][i]) # replace 'punctuation' with ' '\n",
    "    IndDesc = IndDesc.lower()\n",
    "    IndDesc = IndDesc.split()\n",
    "    \n",
    "    # remove stopwords and stemming process\n",
    "    all_stopwords = stopwords.words('english')\n",
    "    all_stopwords.remove('not') # do not remove 'not'\n",
    "    \n",
    "    # don't apply stemming to stopwords\n",
    "    ps = PorterStemmer()\n",
    "    IndDesc = [ ps.stem(word) for word in IndDesc if not word in set(all_stopwords) ] \n",
    "    \n",
    "    # join all words again\n",
    "    IndDesc = ' '.join(IndDesc)\n",
    "    corpus.append(IndDesc)"
   ]
  },
  {
   "cell_type": "markdown",
   "metadata": {},
   "source": [
    "Generating wordclouds"
   ]
  },
  {
   "cell_type": "code",
   "execution_count": null,
   "metadata": {
    "ExecuteTime": {
     "end_time": "2021-05-29T19:01:09.857736Z",
     "start_time": "2021-05-29T19:00:52.236029Z"
    }
   },
   "outputs": [],
   "source": [
    "# Generate a word cloud for green\n",
    "green = list(compress(corpus, df['green']==1))\n",
    "green_words = WordCloud(background_color=\"white\", width=2000, height=1500).generate(str(green))\n",
    "\n",
    "# Generate a word cloud for non-green\n",
    "nongreen = list(compress(corpus, df['green']==0))\n",
    "nongreen_words = WordCloud(background_color=\"white\", width=2000, height=1500).generate(str(nongreen))"
   ]
  },
  {
   "cell_type": "markdown",
   "metadata": {},
   "source": [
    "testing if they have the same length"
   ]
  },
  {
   "cell_type": "markdown",
   "metadata": {},
   "source": [
    "## 3. PLOTS"
   ]
  },
  {
   "cell_type": "code",
   "execution_count": null,
   "metadata": {
    "ExecuteTime": {
     "end_time": "2021-05-29T19:01:25.960821Z",
     "start_time": "2021-05-29T19:01:24.556398Z"
    }
   },
   "outputs": [],
   "source": [
    "# Display the generated image:\n",
    "plt.figure(figsize=(15,15))\n",
    "plt.imshow(green_words, interpolation=\"bilinear\")\n",
    "plt.axis(\"off\")\n",
    "plt.show()"
   ]
  },
  {
   "cell_type": "code",
   "execution_count": null,
   "metadata": {
    "ExecuteTime": {
     "end_time": "2021-05-29T19:01:27.546200Z",
     "start_time": "2021-05-29T19:01:26.057788Z"
    }
   },
   "outputs": [],
   "source": [
    "# Display the generated image:\n",
    "plt.figure(figsize=(15,15))\n",
    "plt.imshow(nongreen_words, interpolation=\"bilinear\")\n",
    "plt.axis(\"off\")\n",
    "plt.show()"
   ]
  },
  {
   "cell_type": "markdown",
   "metadata": {},
   "source": [
    "---"
   ]
  },
  {
   "cell_type": "markdown",
   "metadata": {},
   "source": [
    "# VISUALISATION DONE!"
   ]
  }
 ],
 "metadata": {
  "kernelspec": {
   "display_name": "Python 3",
   "language": "python",
   "name": "python3"
  },
  "language_info": {
   "codemirror_mode": {
    "name": "ipython",
    "version": 3
   },
   "file_extension": ".py",
   "mimetype": "text/x-python",
   "name": "python",
   "nbconvert_exporter": "python",
   "pygments_lexer": "ipython3",
   "version": "3.8.3"
  }
 },
 "nbformat": 4,
 "nbformat_minor": 2
}
